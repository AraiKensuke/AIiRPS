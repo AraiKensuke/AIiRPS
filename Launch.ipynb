{
  "nbformat": 4,
  "nbformat_minor": 0,
  "metadata": {
    "colab": {
      "name": "Untitled10.ipynb",
      "provenance": [],
      "authorship_tag": "ABX9TyPikjgRzxIFH8z6k3oII2e5",
      "include_colab_link": true
    },
    "kernelspec": {
      "name": "python3",
      "display_name": "Python 3"
    }
  },
  "cells": [
    {
      "cell_type": "markdown",
      "metadata": {
        "id": "view-in-github",
        "colab_type": "text"
      },
      "source": [
        "<a href=\"https://colab.research.google.com/github/AraiKensuke/AIiRPS/blob/master/Launch.ipynb\" target=\"_parent\"><img src=\"https://colab.research.google.com/assets/colab-badge.svg\" alt=\"Open In Colab\"/></a>"
      ]
    },
    {
      "cell_type": "code",
      "metadata": {
        "id": "38v8kymIlIL_"
      },
      "source": [
        "\n",
        "import importlib\n",
        "\n",
        "if importlib.util.find_spec(\"AIiRPS\") is None:\n",
        "  !git clone https://github.com/AraiKensuke/AIiRPS.git\n",
        "if importlib.util.find_spec(\"AIiRPS\") is None:\n",
        "  ###  First, clone the pyPG package from Github.  This will only last for this runtime session.  Do this every time you re-open notebook.\n",
        "  !git clone https://github.com/AraiKensuke/pyPG.git\n",
        "  %cd /content/pyPG/\n",
        "\n",
        "  ###  pyPG is written in C++/python, and uses the C library GNU Scientific Library.  \n",
        "  !sudo apt-get install libgsl-dev   \n",
        "\n",
        "  ###  setup and build pyPG\n",
        "  !python setup.py build_ext --inplace\n",
        "\n",
        "  %cd /content   \n",
        "\n",
        "if importlib.util.find_spec(\"LOSTtmp\") is None:\n",
        "  ###  LOST  (FFBS algorithm implemented here)\n",
        "  !git clone https://github.com/AraiKensuke/LOSTtmp.git\n",
        "\n",
        "  %cd /content/LOSTtmp/\n",
        "  !python setup.py build_ext --inplace\n",
        "  %cd /content\n",
        "\n",
        "import AIiRPS\n",
        "import pyPG\n",
        "import LOSTtmp"
      ],
      "execution_count": 14,
      "outputs": []
    },
    {
      "cell_type": "code",
      "metadata": {
        "id": "ToYLKZ82mEqL"
      },
      "source": [
        ""
      ],
      "execution_count": null,
      "outputs": []
    },
    {
      "cell_type": "markdown",
      "metadata": {
        "id": "Wus5FXGPu8Eb"
      },
      "source": [
        ""
      ]
    },
    {
      "cell_type": "code",
      "metadata": {
        "id": "74RveAjrmLQz"
      },
      "source": [
        ""
      ],
      "execution_count": null,
      "outputs": []
    },
    {
      "cell_type": "code",
      "metadata": {
        "id": "biYrANTcnkR3"
      },
      "source": [
        ""
      ],
      "execution_count": null,
      "outputs": []
    },
    {
      "cell_type": "code",
      "metadata": {
        "id": "maylqTqbvtiY"
      },
      "source": [
        ""
      ],
      "execution_count": null,
      "outputs": []
    }
  ]
}