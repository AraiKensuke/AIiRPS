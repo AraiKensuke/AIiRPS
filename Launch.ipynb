{
  "nbformat": 4,
  "nbformat_minor": 0,
  "metadata": {
    "colab": {
      "name": "Untitled10.ipynb",
      "provenance": [],
      "authorship_tag": "ABX9TyNRrzD+Lzz3UIjBu0FbYmDu",
      "include_colab_link": true
    },
    "kernelspec": {
      "name": "python3",
      "display_name": "Python 3"
    }
  },
  "cells": [
    {
      "cell_type": "markdown",
      "metadata": {
        "id": "view-in-github",
        "colab_type": "text"
      },
      "source": [
        "<a href=\"https://colab.research.google.com/github/AraiKensuke/AIiRPS/blob/master/Launch.ipynb\" target=\"_parent\"><img src=\"https://colab.research.google.com/assets/colab-badge.svg\" alt=\"Open In Colab\"/></a>"
      ]
    },
    {
      "cell_type": "code",
      "metadata": {
        "id": "38v8kymIlIL_",
        "outputId": "760fa467-293c-44f4-d7cb-30f30a4d7015",
        "colab": {
          "base_uri": "https://localhost:8080/"
        }
      },
      "source": [
        "\n",
        "import importlib\n",
        "\n",
        "if importlib.util.find_spec(\"AIiRPS\") is None:\n",
        "  !git clone https://github.com/AraiKensuke/AIiRPS.git\n",
        "if importlib.util.find_spec(\"pyPG\") is None:\n",
        "  ###  First, clone the pyPG package from Github.  This will only last for this runtime session.  Do this every time you re-open notebook.\n",
        "  !git clone https://github.com/AraiKensuke/pyPG.git\n",
        "  %cd /content/pyPG/\n",
        "\n",
        "  ###  pyPG is written in C++/python, and uses the C library GNU Scientific Library.  \n",
        "  !sudo apt-get install libgsl-dev   \n",
        "\n",
        "  ###  setup and build pyPG\n",
        "  !python setup.py build_ext --inplace\n",
        "\n",
        "  %cd /content   \n",
        "\n",
        "if importlib.util.find_spec(\"LOSTtmp\") is None:\n",
        "  ###  LOST  (FFBS algorithm implemented here)\n",
        "  !git clone https://github.com/AraiKensuke/LOSTtmp.git\n",
        "\n",
        "  %cd /content/LOSTtmp/\n",
        "  !python setup.py build_ext --inplace\n",
        "  %cd /content\n",
        "\n",
        "import AIiRPS\n",
        "import pyPG\n",
        "import LOSTtmp"
      ],
      "execution_count": 2,
      "outputs": [
        {
          "output_type": "stream",
          "text": [
            "Cloning into 'pyPG'...\n",
            "remote: Enumerating objects: 90, done.\u001b[K\n",
            "remote: Total 90 (delta 0), reused 0 (delta 0), pack-reused 90\u001b[K\n",
            "Unpacking objects: 100% (90/90), done.\n",
            "/content/pyPG\n",
            "Reading package lists... Done\n",
            "Building dependency tree       \n",
            "Reading state information... Done\n",
            "The following additional packages will be installed:\n",
            "  libgsl23 libgslcblas0\n",
            "Suggested packages:\n",
            "  gsl-ref-psdoc | gsl-doc-pdf | gsl-doc-info | gsl-ref-html\n",
            "The following NEW packages will be installed:\n",
            "  libgsl-dev libgsl23 libgslcblas0\n",
            "0 upgraded, 3 newly installed, 0 to remove and 14 not upgraded.\n",
            "Need to get 1,926 kB of archives.\n",
            "After this operation, 9,474 kB of additional disk space will be used.\n",
            "Get:1 http://archive.ubuntu.com/ubuntu bionic/universe amd64 libgslcblas0 amd64 2.4+dfsg-6 [79.7 kB]\n",
            "Get:2 http://archive.ubuntu.com/ubuntu bionic/universe amd64 libgsl23 amd64 2.4+dfsg-6 [823 kB]\n",
            "Get:3 http://archive.ubuntu.com/ubuntu bionic/universe amd64 libgsl-dev amd64 2.4+dfsg-6 [1,023 kB]\n",
            "Fetched 1,926 kB in 1s (2,093 kB/s)\n",
            "debconf: unable to initialize frontend: Dialog\n",
            "debconf: (No usable dialog-like program is installed, so the dialog based frontend cannot be used. at /usr/share/perl5/Debconf/FrontEnd/Dialog.pm line 76, <> line 3.)\n",
            "debconf: falling back to frontend: Readline\n",
            "debconf: unable to initialize frontend: Readline\n",
            "debconf: (This frontend requires a controlling tty.)\n",
            "debconf: falling back to frontend: Teletype\n",
            "dpkg-preconfigure: unable to re-open stdin: \n",
            "Selecting previously unselected package libgslcblas0:amd64.\n",
            "(Reading database ... 144793 files and directories currently installed.)\n",
            "Preparing to unpack .../libgslcblas0_2.4+dfsg-6_amd64.deb ...\n",
            "Unpacking libgslcblas0:amd64 (2.4+dfsg-6) ...\n",
            "Selecting previously unselected package libgsl23:amd64.\n",
            "Preparing to unpack .../libgsl23_2.4+dfsg-6_amd64.deb ...\n",
            "Unpacking libgsl23:amd64 (2.4+dfsg-6) ...\n",
            "Selecting previously unselected package libgsl-dev.\n",
            "Preparing to unpack .../libgsl-dev_2.4+dfsg-6_amd64.deb ...\n",
            "Unpacking libgsl-dev (2.4+dfsg-6) ...\n",
            "Setting up libgslcblas0:amd64 (2.4+dfsg-6) ...\n",
            "Setting up libgsl23:amd64 (2.4+dfsg-6) ...\n",
            "Setting up libgsl-dev (2.4+dfsg-6) ...\n",
            "Processing triggers for man-db (2.8.3-2ubuntu0.1) ...\n",
            "Processing triggers for libc-bin (2.27-3ubuntu1.2) ...\n",
            "/sbin/ldconfig.real: /usr/local/lib/python3.6/dist-packages/ideep4py/lib/libmkldnn.so.0 is not a symbolic link\n",
            "\n",
            "/usr/lib/python3.6/distutils/dist.py:261: UserWarning: Unknown distribution option: 'email'\n",
            "  warnings.warn(msg)\n",
            "running build_ext\n",
            "building 'pyPG/pyPG_cpp_module' extension\n",
            "creating build\n",
            "creating build/temp.linux-x86_64-3.6\n",
            "creating build/temp.linux-x86_64-3.6/pyPG\n",
            "creating build/temp.linux-x86_64-3.6/pyPG/include\n",
            "creating build/temp.linux-x86_64-3.6/pyPG/include/RNG\n",
            "g++ -DNDEBUG -g -fwrapv -O2 -Wall -g -fstack-protector-strong -Wformat -Werror=format-security -Wdate-time -D_FORTIFY_SOURCE=2 -fPIC -I/usr/include/python3.6m -I/usr/local/lib/python3.6/dist-packages/numpy/core/include -IpyPG/include/RNG -I/usr/local/include -I/usr/include/python3.6m -c pyPG/PLogitWrapper.cpp -o build/temp.linux-x86_64-3.6/pyPG/PLogitWrapper.o -fPIC -shared -DNTHROW\n",
            "In file included from \u001b[01m\u001b[K/usr/local/lib/python3.6/dist-packages/numpy/core/include/numpy/ndarraytypes.h:1832:0\u001b[m\u001b[K,\n",
            "                 from \u001b[01m\u001b[K/usr/local/lib/python3.6/dist-packages/numpy/core/include/numpy/ndarrayobject.h:12\u001b[m\u001b[K,\n",
            "                 from \u001b[01m\u001b[K/usr/local/lib/python3.6/dist-packages/numpy/core/include/numpy/arrayobject.h:4\u001b[m\u001b[K,\n",
            "                 from \u001b[01m\u001b[KpyPG/PLogitWrapper.cpp:22\u001b[m\u001b[K:\n",
            "\u001b[01m\u001b[K/usr/local/lib/python3.6/dist-packages/numpy/core/include/numpy/npy_1_7_deprecated_api.h:17:2:\u001b[m\u001b[K \u001b[01;35m\u001b[Kwarning: \u001b[m\u001b[K#warning \"Using deprecated NumPy API, disable it with \" \"#define NPY_NO_DEPRECATED_API NPY_1_7_API_VERSION\" [\u001b[01;35m\u001b[K-Wcpp\u001b[m\u001b[K]\n",
            " #\u001b[01;35m\u001b[Kwarning\u001b[m\u001b[K \"Using deprecated NumPy API, disable it with \" \\\n",
            "  \u001b[01;35m\u001b[K^~~~~~~\u001b[m\u001b[K\n",
            "\u001b[01m\u001b[KpyPG/PLogitWrapper.cpp:\u001b[m\u001b[K In function ‘\u001b[01m\u001b[KPyObject* rpg_devroye(PyObject*, PyObject*)\u001b[m\u001b[K’:\n",
            "\u001b[01m\u001b[KpyPG/PLogitWrapper.cpp:51:12:\u001b[m\u001b[K \u001b[01;35m\u001b[Kwarning: \u001b[m\u001b[Kunused variable ‘\u001b[01m\u001b[Ki\u001b[m\u001b[K’ [\u001b[01;35m\u001b[K-Wunused-variable\u001b[m\u001b[K]\n",
            "   int num, \u001b[01;35m\u001b[Ki\u001b[m\u001b[K, xst, nst, zst;\n",
            "            \u001b[01;35m\u001b[K^\u001b[m\u001b[K\n",
            "\u001b[01m\u001b[KpyPG/PLogitWrapper.cpp:51:15:\u001b[m\u001b[K \u001b[01;35m\u001b[Kwarning: \u001b[m\u001b[Kunused variable ‘\u001b[01m\u001b[Kxst\u001b[m\u001b[K’ [\u001b[01;35m\u001b[K-Wunused-variable\u001b[m\u001b[K]\n",
            "   int num, i, \u001b[01;35m\u001b[Kxst\u001b[m\u001b[K, nst, zst;\n",
            "               \u001b[01;35m\u001b[K^~~\u001b[m\u001b[K\n",
            "\u001b[01m\u001b[KpyPG/PLogitWrapper.cpp:51:20:\u001b[m\u001b[K \u001b[01;35m\u001b[Kwarning: \u001b[m\u001b[Kunused variable ‘\u001b[01m\u001b[Knst\u001b[m\u001b[K’ [\u001b[01;35m\u001b[K-Wunused-variable\u001b[m\u001b[K]\n",
            "   int num, i, xst, \u001b[01;35m\u001b[Knst\u001b[m\u001b[K, zst;\n",
            "                    \u001b[01;35m\u001b[K^~~\u001b[m\u001b[K\n",
            "\u001b[01m\u001b[KpyPG/PLogitWrapper.cpp:51:25:\u001b[m\u001b[K \u001b[01;35m\u001b[Kwarning: \u001b[m\u001b[Kunused variable ‘\u001b[01m\u001b[Kzst\u001b[m\u001b[K’ [\u001b[01;35m\u001b[K-Wunused-variable\u001b[m\u001b[K]\n",
            "   int num, i, xst, nst, \u001b[01;35m\u001b[Kzst\u001b[m\u001b[K;\n",
            "                         \u001b[01;35m\u001b[K^~~\u001b[m\u001b[K\n",
            "\u001b[01m\u001b[KpyPG/PLogitWrapper.cpp:\u001b[m\u001b[K In function ‘\u001b[01m\u001b[KPyObject* rpg_gamma(PyObject*, PyObject*)\u001b[m\u001b[K’:\n",
            "\u001b[01m\u001b[KpyPG/PLogitWrapper.cpp:68:12:\u001b[m\u001b[K \u001b[01;35m\u001b[Kwarning: \u001b[m\u001b[Kunused variable ‘\u001b[01m\u001b[Kmxth\u001b[m\u001b[K’ [\u001b[01;35m\u001b[K-Wunused-variable\u001b[m\u001b[K]\n",
            "   int num, \u001b[01;35m\u001b[Kmxth\u001b[m\u001b[K, tid, i, trunc;\n",
            "            \u001b[01;35m\u001b[K^~~~\u001b[m\u001b[K\n",
            "\u001b[01m\u001b[KpyPG/PLogitWrapper.cpp:68:18:\u001b[m\u001b[K \u001b[01;35m\u001b[Kwarning: \u001b[m\u001b[Kunused variable ‘\u001b[01m\u001b[Ktid\u001b[m\u001b[K’ [\u001b[01;35m\u001b[K-Wunused-variable\u001b[m\u001b[K]\n",
            "   int num, mxth, \u001b[01;35m\u001b[Ktid\u001b[m\u001b[K, i, trunc;\n",
            "                  \u001b[01;35m\u001b[K^~~\u001b[m\u001b[K\n",
            "\u001b[01m\u001b[KpyPG/PLogitWrapper.cpp:68:23:\u001b[m\u001b[K \u001b[01;35m\u001b[Kwarning: \u001b[m\u001b[Kunused variable ‘\u001b[01m\u001b[Ki\u001b[m\u001b[K’ [\u001b[01;35m\u001b[K-Wunused-variable\u001b[m\u001b[K]\n",
            "   int num, mxth, tid, \u001b[01;35m\u001b[Ki\u001b[m\u001b[K, trunc;\n",
            "                       \u001b[01;35m\u001b[K^\u001b[m\u001b[K\n",
            "\u001b[01m\u001b[KpyPG/PLogitWrapper.cpp:72:11:\u001b[m\u001b[K \u001b[01;35m\u001b[Kwarning: \u001b[m\u001b[Kunused variable ‘\u001b[01m\u001b[Kdx\u001b[m\u001b[K’ [\u001b[01;35m\u001b[K-Wunused-variable\u001b[m\u001b[K]\n",
            "   double *\u001b[01;35m\u001b[Kdx\u001b[m\u001b[K    = (double*)x->data;\n",
            "           \u001b[01;35m\u001b[K^~\u001b[m\u001b[K\n",
            "\u001b[01m\u001b[KpyPG/PLogitWrapper.cpp:73:11:\u001b[m\u001b[K \u001b[01;35m\u001b[Kwarning: \u001b[m\u001b[Kunused variable ‘\u001b[01m\u001b[Kdh\u001b[m\u001b[K’ [\u001b[01;35m\u001b[K-Wunused-variable\u001b[m\u001b[K]\n",
            "   int    *\u001b[01;35m\u001b[Kdh\u001b[m\u001b[K    = (int*)h->data;\n",
            "           \u001b[01;35m\u001b[K^~\u001b[m\u001b[K\n",
            "\u001b[01m\u001b[KpyPG/PLogitWrapper.cpp:74:11:\u001b[m\u001b[K \u001b[01;35m\u001b[Kwarning: \u001b[m\u001b[Kunused variable ‘\u001b[01m\u001b[Kdz\u001b[m\u001b[K’ [\u001b[01;35m\u001b[K-Wunused-variable\u001b[m\u001b[K]\n",
            "   double *\u001b[01;35m\u001b[Kdz\u001b[m\u001b[K    = (double*)z->data;\n",
            "           \u001b[01;35m\u001b[K^~\u001b[m\u001b[K\n",
            "\u001b[01m\u001b[KpyPG/PLogitWrapper.cpp:\u001b[m\u001b[K In function ‘\u001b[01m\u001b[KPyObject* PyInit_pyPG_cpp_module()\u001b[m\u001b[K’:\n",
            "\u001b[01m\u001b[KpyPG/PLogitWrapper.cpp:89:7:\u001b[m\u001b[K \u001b[01;35m\u001b[Kwarning: \u001b[m\u001b[Kunused variable ‘\u001b[01m\u001b[Ki\u001b[m\u001b[K’ [\u001b[01;35m\u001b[K-Wunused-variable\u001b[m\u001b[K]\n",
            "   int \u001b[01;35m\u001b[Ki\u001b[m\u001b[K;\n",
            "       \u001b[01;35m\u001b[K^\u001b[m\u001b[K\n",
            "\u001b[01m\u001b[KpyPG/PLogitWrapper.cpp:\u001b[m\u001b[K At global scope:\n",
            "\u001b[01m\u001b[KpyPG/PLogitWrapper.cpp:65:18:\u001b[m\u001b[K \u001b[01;35m\u001b[Kwarning: \u001b[m\u001b[K‘\u001b[01m\u001b[KPyObject* rpg_gamma(PyObject*, PyObject*)\u001b[m\u001b[K’ defined but not used [\u001b[01;35m\u001b[K-Wunused-function\u001b[m\u001b[K]\n",
            " static PyObject *\u001b[01;35m\u001b[Krpg_gamma\u001b[m\u001b[K(PyObject *self, PyObject *args)\n",
            "                  \u001b[01;35m\u001b[K^~~~~~~~~\u001b[m\u001b[K\n",
            "In file included from \u001b[01m\u001b[K/usr/local/lib/python3.6/dist-packages/numpy/core/include/numpy/ndarrayobject.h:21:0\u001b[m\u001b[K,\n",
            "                 from \u001b[01m\u001b[K/usr/local/lib/python3.6/dist-packages/numpy/core/include/numpy/arrayobject.h:4\u001b[m\u001b[K,\n",
            "                 from \u001b[01m\u001b[KpyPG/PLogitWrapper.cpp:22\u001b[m\u001b[K:\n",
            "\u001b[01m\u001b[K/usr/local/lib/python3.6/dist-packages/numpy/core/include/numpy/__multiarray_api.h:1463:1:\u001b[m\u001b[K \u001b[01;35m\u001b[Kwarning: \u001b[m\u001b[K‘\u001b[01m\u001b[Kint _import_array()\u001b[m\u001b[K’ defined but not used [\u001b[01;35m\u001b[K-Wunused-function\u001b[m\u001b[K]\n",
            " \u001b[01;35m\u001b[K_import_array\u001b[m\u001b[K(void)\n",
            " \u001b[01;35m\u001b[K^~~~~~~~~~~~~\u001b[m\u001b[K\n",
            "g++ -DNDEBUG -g -fwrapv -O2 -Wall -g -fstack-protector-strong -Wformat -Werror=format-security -Wdate-time -D_FORTIFY_SOURCE=2 -fPIC -I/usr/include/python3.6m -I/usr/local/lib/python3.6/dist-packages/numpy/core/include -IpyPG/include/RNG -I/usr/local/include -I/usr/include/python3.6m -c pyPG/PolyaGamma.cpp -o build/temp.linux-x86_64-3.6/pyPG/PolyaGamma.o -fPIC -shared -DNTHROW\n",
            "g++ -DNDEBUG -g -fwrapv -O2 -Wall -g -fstack-protector-strong -Wformat -Werror=format-security -Wdate-time -D_FORTIFY_SOURCE=2 -fPIC -I/usr/include/python3.6m -I/usr/local/lib/python3.6/dist-packages/numpy/core/include -IpyPG/include/RNG -I/usr/local/include -I/usr/include/python3.6m -c pyPG/PolyaGammaAlt.cpp -o build/temp.linux-x86_64-3.6/pyPG/PolyaGammaAlt.o -fPIC -shared -DNTHROW\n",
            "g++ -DNDEBUG -g -fwrapv -O2 -Wall -g -fstack-protector-strong -Wformat -Werror=format-security -Wdate-time -D_FORTIFY_SOURCE=2 -fPIC -I/usr/include/python3.6m -I/usr/local/lib/python3.6/dist-packages/numpy/core/include -IpyPG/include/RNG -I/usr/local/include -I/usr/include/python3.6m -c pyPG/PolyaGammaSP.cpp -o build/temp.linux-x86_64-3.6/pyPG/PolyaGammaSP.o -fPIC -shared -DNTHROW\n",
            "g++ -DNDEBUG -g -fwrapv -O2 -Wall -g -fstack-protector-strong -Wformat -Werror=format-security -Wdate-time -D_FORTIFY_SOURCE=2 -fPIC -I/usr/include/python3.6m -I/usr/local/lib/python3.6/dist-packages/numpy/core/include -IpyPG/include/RNG -I/usr/local/include -I/usr/include/python3.6m -c pyPG/LogitWrapper.cpp -o build/temp.linux-x86_64-3.6/pyPG/LogitWrapper.o -fPIC -shared -DNTHROW\n",
            "g++ -DNDEBUG -g -fwrapv -O2 -Wall -g -fstack-protector-strong -Wformat -Werror=format-security -Wdate-time -D_FORTIFY_SOURCE=2 -fPIC -I/usr/include/python3.6m -I/usr/local/lib/python3.6/dist-packages/numpy/core/include -IpyPG/include/RNG -I/usr/local/include -I/usr/include/python3.6m -c pyPG/FSF_nmix.cpp -o build/temp.linux-x86_64-3.6/pyPG/FSF_nmix.o -fPIC -shared -DNTHROW\n",
            "g++ -DNDEBUG -g -fwrapv -O2 -Wall -g -fstack-protector-strong -Wformat -Werror=format-security -Wdate-time -D_FORTIFY_SOURCE=2 -fPIC -I/usr/include/python3.6m -I/usr/local/lib/python3.6/dist-packages/numpy/core/include -IpyPG/include/RNG -I/usr/local/include -I/usr/include/python3.6m -c pyPG/InvertY.cpp -o build/temp.linux-x86_64-3.6/pyPG/InvertY.o -fPIC -shared -DNTHROW\n",
            "g++ -DNDEBUG -g -fwrapv -O2 -Wall -g -fstack-protector-strong -Wformat -Werror=format-security -Wdate-time -D_FORTIFY_SOURCE=2 -fPIC -I/usr/include/python3.6m -I/usr/local/lib/python3.6/dist-packages/numpy/core/include -IpyPG/include/RNG -I/usr/local/include -I/usr/include/python3.6m -c pyPG/InvertY2.cpp -o build/temp.linux-x86_64-3.6/pyPG/InvertY2.o -fPIC -shared -DNTHROW\n",
            "g++ -DNDEBUG -g -fwrapv -O2 -Wall -g -fstack-protector-strong -Wformat -Werror=format-security -Wdate-time -D_FORTIFY_SOURCE=2 -fPIC -I/usr/include/python3.6m -I/usr/local/lib/python3.6/dist-packages/numpy/core/include -IpyPG/include/RNG -I/usr/local/include -I/usr/include/python3.6m -c pyPG/HHWrapper.cpp -o build/temp.linux-x86_64-3.6/pyPG/HHWrapper.o -fPIC -shared -DNTHROW\n",
            "g++ -DNDEBUG -g -fwrapv -O2 -Wall -g -fstack-protector-strong -Wformat -Werror=format-security -Wdate-time -D_FORTIFY_SOURCE=2 -fPIC -I/usr/include/python3.6m -I/usr/local/lib/python3.6/dist-packages/numpy/core/include -IpyPG/include/RNG -I/usr/local/include -I/usr/include/python3.6m -c pyPG/include/RNG/GRNG.cpp -o build/temp.linux-x86_64-3.6/pyPG/include/RNG/GRNG.o -fPIC -shared -DNTHROW\n",
            "g++ -DNDEBUG -g -fwrapv -O2 -Wall -g -fstack-protector-strong -Wformat -Werror=format-security -Wdate-time -D_FORTIFY_SOURCE=2 -fPIC -I/usr/include/python3.6m -I/usr/local/lib/python3.6/dist-packages/numpy/core/include -IpyPG/include/RNG -I/usr/local/include -I/usr/include/python3.6m -c pyPG/include/RNG/RNG.cpp -o build/temp.linux-x86_64-3.6/pyPG/include/RNG/RNG.o -fPIC -shared -DNTHROW\n",
            "g++ -pthread -shared -Wl,-O1 -Wl,-Bsymbolic-functions -Wl,-Bsymbolic-functions -Wl,-z,relro -Wl,-Bsymbolic-functions -Wl,-z,relro -g -fstack-protector-strong -Wformat -Werror=format-security -Wdate-time -D_FORTIFY_SOURCE=2 build/temp.linux-x86_64-3.6/pyPG/PLogitWrapper.o build/temp.linux-x86_64-3.6/pyPG/PolyaGamma.o build/temp.linux-x86_64-3.6/pyPG/PolyaGammaAlt.o build/temp.linux-x86_64-3.6/pyPG/PolyaGammaSP.o build/temp.linux-x86_64-3.6/pyPG/LogitWrapper.o build/temp.linux-x86_64-3.6/pyPG/FSF_nmix.o build/temp.linux-x86_64-3.6/pyPG/InvertY.o build/temp.linux-x86_64-3.6/pyPG/InvertY2.o build/temp.linux-x86_64-3.6/pyPG/HHWrapper.o build/temp.linux-x86_64-3.6/pyPG/include/RNG/GRNG.o build/temp.linux-x86_64-3.6/pyPG/include/RNG/RNG.o -L/usr/local/lib -lgsl -o /content/pyPG/pyPG/pyPG_cpp_module.cpython-36m-x86_64-linux-gnu.so -lgsl -lgslcblas\n",
            "/content\n"
          ],
          "name": "stdout"
        }
      ]
    },
    {
      "cell_type": "code",
      "metadata": {
        "id": "ToYLKZ82mEqL",
        "outputId": "3ff000b8-4272-440c-f0ab-eec0ac22063c",
        "colab": {
          "base_uri": "https://localhost:8080/",
          "height": 495
        }
      },
      "source": [
        "#!/usr/bin/python\n",
        "\n",
        "import numpy as _N  #  must import this before pyPG when running from shell\n",
        "import pickle\n",
        "\n",
        "import AIiRPS.utils.read_taisen as _rd\n",
        "import matplotlib.pyplot as _plt\n",
        "import os\n",
        "import sys\n",
        "import AIiRPS.models.labels as labels\n",
        "import AIiRPS.models.multinomial_gibbs as _mg\n",
        "\n",
        "from AIiRPS.utils.dir_util import getResultFN\n",
        "\n",
        "def union_arrs(a1, a2):\n",
        "     return _N.sort(_N.array(a1.tolist() + a2.tolist()))\n",
        "\n",
        "def fill_unobserved(arr):\n",
        "    #  we assume old value is kept until new observation\n",
        "    nz = _N.where(arr != -100)[0]\n",
        "    iLastObs = arr[0] if (arr[0] != -100) else _N.mean(arr[nz])\n",
        "    for i in range(1, arr.shape[0]):\n",
        "        arr[i] = arr[i] if (arr[i] != -100) else iLastObs\n",
        "        if arr[i] != -100:\n",
        "            iLastObs = arr[i]\n",
        "    \n",
        "def depickle(s):\n",
        "     import pickle\n",
        "     with open(s, \"rb\") as f:\n",
        "          lm = pickle.load(f)\n",
        "     return lm\n",
        "\n",
        "###\n",
        "#   Here the latent state is B1, B2.\n",
        "#   Probability of going to stay, weaker, stronger for just the WIN condition\n",
        "#   \n",
        "\n",
        "#  input data\n",
        "#  m_hands    # machine hands  size N         1 -1  1\n",
        "#  h_hands    # human hands    size N        -1 -1  1\n",
        "#  -1 -1  1  1 -1  1 \n",
        "#      0  1  0  1  1\n",
        "\n",
        "fns     = [\"ME,WTL\", \"ME,RPS\", \"AI,WTL\", \"AI,RPS\", \"OU,WTL\", \"OU,RPS\"]\n",
        "\n",
        "fnt_tck = 10\n",
        "fnt_lbl = 12\n",
        "\n",
        "fnt_tck = 15\n",
        "fnt_lab = 16\n",
        "\n",
        "_WTL = 10\n",
        "_ME_WTL = 0\n",
        "_RELATIVE_LAST_ME = 1    #  what to use as a comparison for when player switches\n",
        "\n",
        "smp_every = 50\n",
        "ITER = 30000\n",
        "it0  = 28000\n",
        "it1  = 30000\n",
        "\n",
        "label=6\n",
        "#  priors for inv gamma   #  B/(a+1)\n",
        "\n",
        "rndmz = False\n",
        "\n",
        "######  AR(1) coefficient range \n",
        "a_F0      = -1;    b_F0      =  1\n",
        "\n",
        "######  int main \n",
        "#int i,pred,m,v[3],x[3*N+1],w[9*N+3],fw[3];\n",
        "\n",
        "know_gt  = False\n",
        "signal   = _RELATIVE_LAST_ME\n",
        "covariates = _WTL\n",
        "sig_cov   = _ME_WTL\n",
        "\n",
        "tr0      = 0\n",
        "tr1      = -1\n",
        "\n",
        "#####USE real\n",
        "#dat_fn        = \"20Aug18-1624-01\"\n",
        "\n",
        "#dat_fn=\"20Jun01-0748-03\"\n",
        "#dat_fn=\"20May29-1923-44\"\n",
        "#dat_fn=\"20May29-1419-14\"\n",
        "#\n",
        "#dat_fn      = \"20Jan09-1504-32\"\n",
        "#dat_fn=\"20Aug12-1331-06\"\n",
        "#dat_fn=\"20Jan08-1703-13\"\n",
        "#dat_fn=\"20Aug12-1252-50\"\n",
        "#dat_fn=\"20Nov22-1108-25\"\n",
        "dat_fn=\"20Nov21-1959-30\"\n",
        "\n",
        "random_walk = True\n",
        "flip_human_AI=False\n",
        "#########################################\n",
        "a_q2, B_q2 = labels.get_a_B(label)\n",
        "\n",
        "scov = \"WTL\"\n",
        "ssig = \"ME\"\n",
        "\n",
        "if tr1 < 0:\n",
        "    tr1 = None\n",
        "sran   = \"\"\n",
        "\n",
        "s_flip = \"_flip\" if flip_human_AI else \"\"\n",
        "if not know_gt: \n",
        "    _hnd_dat = _rd.return_hnd_dat(dat_fn, flip_human_AI=flip_human_AI)    \n",
        "else:\n",
        "    _hnd_dat     = _N.loadtxt(\"/Users/arai/nctc/Workspace/AIiRPS_SimDAT/rpsm_%s.dat\" % dat_fn, dtype=_N.int)\n",
        "    lmGT = depickle(\"/Users/arai/nctc/Workspace/AIiRPS_SimDAT/rpsm_%s.dmp\" % dat_fn)\n",
        "    Ts = lmGT[\"Ts_timeseries\"]\n"
      ],
      "execution_count": 3,
      "outputs": [
        {
          "output_type": "error",
          "ename": "ModuleNotFoundError",
          "evalue": "ignored",
          "traceback": [
            "\u001b[0;31m---------------------------------------------------------------------------\u001b[0m",
            "\u001b[0;31mModuleNotFoundError\u001b[0m                       Traceback (most recent call last)",
            "\u001b[0;32m<ipython-input-3-6cff09c767db>\u001b[0m in \u001b[0;36m<module>\u001b[0;34m()\u001b[0m\n\u001b[1;32m      9\u001b[0m \u001b[0;32mimport\u001b[0m \u001b[0msys\u001b[0m\u001b[0;34m\u001b[0m\u001b[0;34m\u001b[0m\u001b[0m\n\u001b[1;32m     10\u001b[0m \u001b[0;32mimport\u001b[0m \u001b[0mAIiRPS\u001b[0m\u001b[0;34m.\u001b[0m\u001b[0mmodels\u001b[0m\u001b[0;34m.\u001b[0m\u001b[0mlabels\u001b[0m \u001b[0;32mas\u001b[0m \u001b[0mlabels\u001b[0m\u001b[0;34m\u001b[0m\u001b[0;34m\u001b[0m\u001b[0m\n\u001b[0;32m---> 11\u001b[0;31m \u001b[0;32mimport\u001b[0m \u001b[0mAIiRPS\u001b[0m\u001b[0;34m.\u001b[0m\u001b[0mmodels\u001b[0m\u001b[0;34m.\u001b[0m\u001b[0mmultinomial_gibbs\u001b[0m \u001b[0;32mas\u001b[0m \u001b[0m_mg\u001b[0m\u001b[0;34m\u001b[0m\u001b[0;34m\u001b[0m\u001b[0m\n\u001b[0m\u001b[1;32m     12\u001b[0m \u001b[0;34m\u001b[0m\u001b[0m\n\u001b[1;32m     13\u001b[0m \u001b[0;32mfrom\u001b[0m \u001b[0mAIiRPS\u001b[0m\u001b[0;34m.\u001b[0m\u001b[0mutils\u001b[0m\u001b[0;34m.\u001b[0m\u001b[0mdir_util\u001b[0m \u001b[0;32mimport\u001b[0m \u001b[0mgetResultFN\u001b[0m\u001b[0;34m\u001b[0m\u001b[0;34m\u001b[0m\u001b[0m\n",
            "\u001b[0;32m/content/AIiRPS/models/multinomial_gibbs.py\u001b[0m in \u001b[0;36m<module>\u001b[0;34m()\u001b[0m\n\u001b[1;32m      1\u001b[0m \u001b[0;32mimport\u001b[0m \u001b[0mscipy\u001b[0m\u001b[0;34m.\u001b[0m\u001b[0mstats\u001b[0m \u001b[0;32mas\u001b[0m \u001b[0m_ss\u001b[0m\u001b[0;34m\u001b[0m\u001b[0;34m\u001b[0m\u001b[0m\n\u001b[1;32m      2\u001b[0m \u001b[0;32mimport\u001b[0m \u001b[0mpyPG\u001b[0m \u001b[0;32mas\u001b[0m \u001b[0mlw\u001b[0m\u001b[0;34m\u001b[0m\u001b[0;34m\u001b[0m\u001b[0m\n\u001b[0;32m----> 3\u001b[0;31m \u001b[0;32mimport\u001b[0m \u001b[0mLOSTtmp\u001b[0m\u001b[0;34m.\u001b[0m\u001b[0mkfARlib1c\u001b[0m \u001b[0;32mas\u001b[0m \u001b[0m_kfar\u001b[0m\u001b[0;34m\u001b[0m\u001b[0;34m\u001b[0m\u001b[0m\n\u001b[0m\u001b[1;32m      4\u001b[0m \u001b[0;32mimport\u001b[0m \u001b[0mnumpy\u001b[0m \u001b[0;32mas\u001b[0m \u001b[0m_N\u001b[0m\u001b[0;34m\u001b[0m\u001b[0;34m\u001b[0m\u001b[0m\n\u001b[1;32m      5\u001b[0m \u001b[0;34m\u001b[0m\u001b[0m\n",
            "\u001b[0;31mModuleNotFoundError\u001b[0m: No module named 'LOSTtmp.kfARlib1c'",
            "",
            "\u001b[0;31m---------------------------------------------------------------------------\u001b[0;32m\nNOTE: If your import is failing due to a missing package, you can\nmanually install dependencies using either !pip or !apt.\n\nTo view examples of installing some common dependencies, click the\n\"Open Examples\" button below.\n\u001b[0;31m---------------------------------------------------------------------------\u001b[0m\n"
          ]
        }
      ]
    },
    {
      "cell_type": "markdown",
      "metadata": {
        "id": "Wus5FXGPu8Eb"
      },
      "source": [
        ""
      ]
    },
    {
      "cell_type": "code",
      "metadata": {
        "id": "74RveAjrmLQz"
      },
      "source": [
        ""
      ],
      "execution_count": null,
      "outputs": []
    },
    {
      "cell_type": "code",
      "metadata": {
        "id": "biYrANTcnkR3",
        "outputId": "e887038d-06f0-4e42-82ea-36f75f900e67",
        "colab": {
          "base_uri": "https://localhost:8080/",
          "height": 304
        }
      },
      "source": [
        "import LOSTtmp.kfARlib1c"
      ],
      "execution_count": 5,
      "outputs": [
        {
          "output_type": "error",
          "ename": "ModuleNotFoundError",
          "evalue": "ignored",
          "traceback": [
            "\u001b[0;31m---------------------------------------------------------------------------\u001b[0m",
            "\u001b[0;31mModuleNotFoundError\u001b[0m                       Traceback (most recent call last)",
            "\u001b[0;32m<ipython-input-5-acf9fbce694d>\u001b[0m in \u001b[0;36m<module>\u001b[0;34m()\u001b[0m\n\u001b[0;32m----> 1\u001b[0;31m \u001b[0;32mimport\u001b[0m \u001b[0mLOSTtmp\u001b[0m\u001b[0;34m.\u001b[0m\u001b[0mkfARlib1c\u001b[0m\u001b[0;34m\u001b[0m\u001b[0;34m\u001b[0m\u001b[0m\n\u001b[0m",
            "\u001b[0;31mModuleNotFoundError\u001b[0m: No module named 'LOSTtmp.kfARlib1c'",
            "",
            "\u001b[0;31m---------------------------------------------------------------------------\u001b[0;32m\nNOTE: If your import is failing due to a missing package, you can\nmanually install dependencies using either !pip or !apt.\n\nTo view examples of installing some common dependencies, click the\n\"Open Examples\" button below.\n\u001b[0;31m---------------------------------------------------------------------------\u001b[0m\n"
          ]
        }
      ]
    },
    {
      "cell_type": "code",
      "metadata": {
        "id": "maylqTqbvtiY",
        "outputId": "3cd046c4-6924-4e55-da70-998c2cd7c56e",
        "colab": {
          "base_uri": "https://localhost:8080/"
        }
      },
      "source": [
        "!ls"
      ],
      "execution_count": 6,
      "outputs": [
        {
          "output_type": "stream",
          "text": [
            "AIiRPS\tLOSTtmp  pyPG  sample_data\n"
          ],
          "name": "stdout"
        }
      ]
    },
    {
      "cell_type": "code",
      "metadata": {
        "id": "gynF2a-fTIN-",
        "outputId": "4100a15a-9f53-49a6-8ee2-2ab04df75a7d",
        "colab": {
          "base_uri": "https://localhost:8080/"
        }
      },
      "source": [
        "!ls LOSTtmp/LOSTtmp"
      ],
      "execution_count": 8,
      "outputs": [
        {
          "output_type": "stream",
          "text": [
            "__init__.py  kfARlib1c.cpython-36m-x86_64-linux-gnu.so\n",
            "kfARlib1c.c  kfARlib1c.pyx\n"
          ],
          "name": "stdout"
        }
      ]
    },
    {
      "cell_type": "code",
      "metadata": {
        "id": "wEdykJxyTJkz"
      },
      "source": [
        "import pyPG"
      ],
      "execution_count": 9,
      "outputs": []
    },
    {
      "cell_type": "code",
      "metadata": {
        "id": "TQo475ZBTQ5q"
      },
      "source": [
        ""
      ],
      "execution_count": null,
      "outputs": []
    }
  ]
}