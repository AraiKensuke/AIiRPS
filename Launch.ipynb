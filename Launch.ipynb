{
  "nbformat": 4,
  "nbformat_minor": 0,
  "metadata": {
    "colab": {
      "name": "Untitled10.ipynb",
      "provenance": [],
      "authorship_tag": "ABX9TyOJBeDX1PIlEOe8kC8V/n2f",
      "include_colab_link": true
    },
    "kernelspec": {
      "name": "python3",
      "display_name": "Python 3"
    }
  },
  "cells": [
    {
      "cell_type": "markdown",
      "metadata": {
        "id": "view-in-github",
        "colab_type": "text"
      },
      "source": [
        "<a href=\"https://colab.research.google.com/github/AraiKensuke/AIiRPS/blob/master/Launch.ipynb\" target=\"_parent\"><img src=\"https://colab.research.google.com/assets/colab-badge.svg\" alt=\"Open In Colab\"/></a>"
      ]
    },
    {
      "cell_type": "code",
      "metadata": {
        "id": "38v8kymIlIL_"
      },
      "source": [
        "!git clone https://github.com/AraiKensuke/AIiRPS.git\n",
        "!cd AIiRPS\n",
        "\n",
        "###  First, clone the pyPG package from Github.  This will only last for this runtime session.  Do this every time you re-open notebook.\n",
        "!git clone https://github.com/AraiKensuke/pyPG.git\n",
        "%cd /content/pyPG/\n",
        "\n",
        "###  pyPG is written in C++/python, and uses the C library GNU Scientific Library.  \n",
        "!sudo apt-get install libgsl-dev   \n",
        "\n",
        "###  setup and build pyPG\n",
        "!python setup.py build_ext --inplace\n",
        "\n",
        "%cd /content"
      ],
      "execution_count": null,
      "outputs": []
    },
    {
      "cell_type": "code",
      "metadata": {
        "id": "ToYLKZ82mEqL"
      },
      "source": [
        "import AIiRPS"
      ],
      "execution_count": 7,
      "outputs": []
    },
    {
      "cell_type": "code",
      "metadata": {
        "id": "74RveAjrmLQz"
      },
      "source": [
        "import pyPG"
      ],
      "execution_count": 6,
      "outputs": []
    },
    {
      "cell_type": "code",
      "metadata": {
        "id": "biYrANTcnkR3"
      },
      "source": [
        ""
      ],
      "execution_count": null,
      "outputs": []
    }
  ]
}