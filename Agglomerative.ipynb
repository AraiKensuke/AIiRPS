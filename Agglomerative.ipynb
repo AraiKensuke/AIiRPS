{
  "nbformat": 4,
  "nbformat_minor": 0,
  "metadata": {
    "colab": {
      "name": "Untitled25.ipynb",
      "provenance": [],
      "authorship_tag": "ABX9TyOmIvZylOKKrh05D6eYkzJo",
      "include_colab_link": true
    },
    "kernelspec": {
      "name": "python3",
      "display_name": "Python 3"
    },
    "language_info": {
      "name": "python"
    }
  },
  "cells": [
    {
      "cell_type": "markdown",
      "metadata": {
        "id": "view-in-github",
        "colab_type": "text"
      },
      "source": [
        "<a href=\"https://colab.research.google.com/github/AraiKensuke/AIiRPS/blob/master/Agglomerative.ipynb\" target=\"_parent\"><img src=\"https://colab.research.google.com/assets/colab-badge.svg\" alt=\"Open In Colab\"/></a>"
      ]
    },
    {
      "cell_type": "code",
      "metadata": {
        "colab": {
          "base_uri": "https://localhost:8080/",
          "height": 786
        },
        "id": "dSO98J7D9Nqp",
        "outputId": "c6be8fca-8f94-4ca8-8453-4f2c724ff426"
      },
      "source": [
        "import numpy as np\n",
        "import numpy as _N\n",
        "import scipy.stats as _ss\n",
        "\n",
        "from matplotlib import pyplot as plt\n",
        "from scipy.cluster.hierarchy import dendrogram\n",
        "from sklearn.datasets import load_iris\n",
        "from sklearn.cluster import AgglomerativeClustering\n",
        "\n",
        "def standardize(y):\n",
        "    ys = y - _N.mean(y)\n",
        "    ys /= _N.std(ys)\n",
        "    return ys\n",
        "\n",
        "def depickle(s):\n",
        "    import pickle\n",
        "    with open(s, \"rb\") as f:\n",
        "        lm = pickle.load(f)\n",
        "    return lm\n",
        "\n",
        "def unskew(dat):\n",
        "    sk = _N.empty(15)\n",
        "    im = -1\n",
        "    ms = _N.linspace(0.01, 1.1, 15)\n",
        "    for m in ms:\n",
        "        im += 1\n",
        "        sk[im] = _ss.skew(_N.exp(dat / (m*_N.mean(dat))))\n",
        "    min_im = _N.where(_N.abs(sk) == _N.min(_N.abs(sk)))[0][0]\n",
        "    return _N.exp(dat / (ms[min_im]*_N.mean(dat)))\n",
        "\n",
        "lm = depickle(\"predictAQ28dat/AQ28_vs_RPS_1.dmp\")\n",
        "\n",
        "features_cab = lm[\"features_cab\"]\n",
        "features_stat = lm[\"features_stat\"]\n",
        "cmp_againsts = features_cab + features_stat\n",
        "\n",
        "iaf = -1\n",
        "######  unskew and standardize the features to use.\n",
        "for ca in cmp_againsts:\n",
        "    exec(\"temp = lm[\\\"%(ca)s\\\"]\" % {\"ca\" : ca})\n",
        "    exec(\"%(ca)s = lm[\\\"%(ca)s\\\"]\" % {\"ca\" : ca})    \n",
        "    if ca[0:7] == \"entropy\":\n",
        "        exec(\"temp = unskew(temp)\" % {\"ca\" : ca})\n",
        "    print(ca)\n",
        "    exec(\"%(ca)s_s = standardize(temp)\" % {\"ca\" : ca})\n",
        "\n",
        "def plot_dendrogram(model, **kwargs):\n",
        "    # Create linkage matrix and then plot the dendrogram\n",
        "\n",
        "    # create the counts of samples under each node\n",
        "    counts = np.zeros(model.children_.shape[0])\n",
        "    n_samples = len(model.labels_)\n",
        "    for i, merge in enumerate(model.children_):\n",
        "        current_count = 0\n",
        "        for child_idx in merge:\n",
        "            if child_idx < n_samples:\n",
        "                current_count += 1  # leaf node\n",
        "            else:\n",
        "                current_count += counts[child_idx - n_samples]\n",
        "        counts[i] = current_count\n",
        "\n",
        "    linkage_matrix = np.column_stack(\n",
        "        [model.children_, model.distances_, counts]\n",
        "    ).astype(float)\n",
        "\n",
        "    # Plot the corresponding dendrogram\n",
        "    dendrogram(linkage_matrix, **kwargs)\n",
        "\n",
        "X_all_feats            = _N.empty((184, len(cmp_againsts)))\n",
        "\n",
        "for af in cmp_againsts:\n",
        "    iaf += 1\n",
        "    exec(\"feat = %s_s\" % af)    \n",
        "    X_all_feats[:, iaf] = feat\n",
        "\n",
        "# setting distance_threshold=0 ensures we compute the full tree.\n",
        "model = AgglomerativeClustering()\n",
        "\n",
        "model = model.fit(X_all_feats)\n",
        "\n",
        "cl0  = _N.where(model.labels_ == 0)[0]\n",
        "cl1  = _N.where(model.labels_ == 1)[0]\n",
        "\n",
        "#for fact in [\"soc_skils\", \"imag\", \"rout\", \"switch\", \"fact_pat\"]:\n",
        "for fact in [\"AQ28scrs\"]:\n",
        "    scrs = lm[fact]\n",
        "    print(\"%(1).1f   %(2).f\" % {\"1\" : _N.mean(scrs[cl0]), \"2\" : _N.mean(scrs[cl1])})\n",
        "    \n",
        "# plt.title(\"Hierarchical Clustering Dendrogram\")\n",
        "# # plot the top three levels of the dendrogram\n",
        "# plot_dendrogram(model, truncate_mode=\"level\", p=3)\n",
        "# plt.xlabel(\"Number of points in node (or index of point if no parenthesis).\")\n",
        "# plt.show()\n"
      ],
      "execution_count": 1,
      "outputs": [
        {
          "output_type": "stream",
          "name": "stdout",
          "text": [
            "------\n",
            "[0 1 2 3 5 6 7 8 9]\n",
            "[ 4 10 11]\n",
            "------\n",
            "[ 2  3  4  5  6  8  9 10 11]\n",
            "[0 1 7]\n",
            "------\n",
            "[ 0  1  2  3  4  6  7 10 11]\n",
            "[5 8 9]\n",
            "------\n",
            "[ 0  1  4  5  7  8  9 10 11]\n",
            "[2 3 6]\n",
            "------\n",
            "[ 0  2  3  4  6  7  9 10 11]\n",
            "[1 5 8]\n",
            "------\n",
            "[ 0  1  2  3  4  5  8  9 10]\n",
            "[ 6  7 11]\n",
            "------\n",
            "[ 0  1  2  4  5  6  7  8 11]\n",
            "[ 3  9 10]\n",
            "------\n",
            "[ 1  3  5  6  7  8  9 10 11]\n",
            "[0 2 4]\n",
            "coefficients when penalty for coefficients is small\n",
            "[  -1.30657522 -228.82233096  525.56065802  316.17531973 -307.0136771\n",
            "   89.32168772 -105.0813979   119.59798934  571.33087056   65.00731595]\n",
            "coefficients when penalty for coefficients is large\n",
            "[  0.          -0.         367.70185207   6.30190419   0.\n",
            "   0.          -0.           0.         307.6057       0.        ]\n"
          ]
        },
        {
          "output_type": "display_data",
          "data": {
            "image/png": "[encoded data removed]",
            "text/plain": [
              "<Figure size 432x288 with 1 Axes>"
            ]
          },
          "metadata": {
            "needs_background": "light"
          }
        }
      ]
    },
    {
      "cell_type": "code",
      "metadata": {
        "id": "_ySo5lOiCOOh"
      },
      "source": [
        ""
      ],
      "execution_count": null,
      "outputs": []
    }
  ]
}