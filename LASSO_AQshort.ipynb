{
  "nbformat": 4,
  "nbformat_minor": 0,
  "metadata": {
    "colab": {
      "name": "Untitled10.ipynb",
      "provenance": [],
      "toc_visible": true,
      "authorship_tag": "ABX9TyO1tiTbOE8mtbkFfMALD9i4",
      "include_colab_link": true
    },
    "kernelspec": {
      "name": "python3",
      "display_name": "Python 3"
    }
  },
  "cells": [
    {
      "cell_type": "markdown",
      "metadata": {
        "id": "view-in-github",
        "colab_type": "text"
      },
      "source": [
        "<a href=\"https://colab.research.google.com/github/AraiKensuke/AIiRPS/blob/master/LASSO_AQshort.ipynb\" target=\"_parent\"><img src=\"https://colab.research.google.com/assets/colab-badge.svg\" alt=\"Open In Colab\"/></a>"
      ]
    },
    {
      "cell_type": "markdown",
      "metadata": {
        "id": "14XdTEYotjWw"
      },
      "source": [
        "**Predicting AQ-Short and its subfactors**\n"
      ]
    },
    {
      "cell_type": "markdown",
      "metadata": {
        "id": "8LqrVkCoF_yL"
      },
      "source": [
        "# Get code from Github\n",
        "This notebook is largely the same as RPS_AQ28corr.py    if you want to run it from command line locally."
      ]
    },
    {
      "cell_type": "code",
      "metadata": {
        "id": "38v8kymIlIL_"
      },
      "source": [
        "#########  clone and install necessary packages from github repositories\n",
        "\n",
        "import sys\n",
        "import importlib\n",
        "\n",
        "if importlib.util.find_spec(\"AIiRPS\") is None:\n",
        "  !git clone https://github.com/AraiKensuke/AIiRPS.git\n",
        "\n",
        "sys.path.insert(1, \"/content/AIiRPS\")\n"
      ],
      "execution_count": 9,
      "outputs": []
    },
    {
      "cell_type": "markdown",
      "metadata": {
        "id": "lPWfs74ksGt2"
      },
      "source": [
        "# Pick a target (soc_skils, imag, rout, switch, fact_pat, AQ28scrs), and run cross-validated LASSO repeat 100 times, and look at r^2.\n",
        "\n",
        "Functions that attempt to do somethings about outliers."
      ]
    },
    {
      "cell_type": "code",
      "metadata": {
        "id": "QrtQiZibO9Kt",
        "outputId": "5a46b598-81cb-48a4-be49-1320b56a2603",
        "colab": {
          "base_uri": "https://localhost:8080/"
        }
      },
      "source": [
        "import numpy as _N\n",
        "import matplotlib.pyplot as _plt\n",
        "import scipy.stats as _ss\n",
        "from sklearn import linear_model\n",
        "import sklearn.linear_model as _skl\n",
        "from sklearn.model_selection import cross_val_score\n",
        "from sklearn.model_selection import ShuffleSplit\n",
        "from sklearn.model_selection import KFold\n",
        "from sklearn.model_selection import RepeatedKFold\n",
        "from sklearn.linear_model import LinearRegression\n",
        "from sklearn.linear_model import Ridge\n",
        "from sklearn.linear_model import HuberRegressor\n",
        "from sklearn.linear_model import RANSACRegressor\n",
        "from sklearn.linear_model import TheilSenRegressor\n",
        "from sklearn.linear_model import LassoCV\n",
        "\n",
        "\n",
        "def depickle(s):\n",
        "     import pickle\n",
        "     with open(s, \"rb\") as f:\n",
        "          lm = pickle.load(f)\n",
        "     return lm\n",
        "\n",
        "lm = depickle(\"/content/AIiRPS/predictAQ28dat/AQ28_vs_RPS.dmp\")\n",
        "\n",
        "AQ28scores = [\"AQ28scrs\", \"soc_skils\", \"imag\", \"rout\", \"switch\", \"fact_pat\"]\n",
        "AQ28scores_ab = [\"AQ28\", \"SS\", \"IM\", \"RT\", \"SW\", \"FP\"]\n",
        "\n",
        "outcomes = [\"netwins\",\n",
        "            \"win_aft_win\", \"tie_aft_win\", \"los_aft_win\",            \n",
        "            \"win_aft_tie\", \"tie_aft_tie\", \"los_aft_tie\",\n",
        "            \"win_aft_los\", \"tie_aft_los\", \"los_aft_los\",\n",
        "            \"u_or_d_tie\", \"u_or_d_res\", \"stay_tie\", \"stay_res\"]\n",
        "outcome_ab = [\"NW\",\n",
        "              \"WW\", \"TW\", \"LW\",\n",
        "              \"WT\", \"TT\", \"LT\",\n",
        "              \"WL\", \"TL\", \"LL\",\n",
        "              \"T\", \"W\"]  #  0.5 3.5 6.5 9.5\n",
        "\n",
        "\n",
        "rule_change_features = [\"pfrm_change36\", \"pfrm_change69\", \"pfrm_change912\", \"moresim\"]\n",
        "\n",
        "features = [\"entropyT2\", \"entropyW2\", \"entropyL2\", \"entropyU\", \"entropyS\", \"entropyD\",\n",
        "            \"isis_corr\", \"isis_lv\", \"entropyL\", \"entropyT\", \"entropyW\"]\n",
        "#            \"pfrm_change36\", \"pfrm_change69\", \"pfrm_change912\"]\n",
        "\n",
        "for feat in features:\n",
        "    #exec(\"%(f)s = lm[\\\"AQ28_%(f)s\\\"][:, 1]\" % {\"f\" : feat})\n",
        "    exec(\"%(f)s = lm[\\\"%(f)s\\\"]\" % {\"f\" : feat})\n",
        "    exec(\"%(f)s = %(f)s / _N.std(%(f)s)\" % {\"f\" : feat})\n",
        "    exec(\"%(f)s = %(f)s - _N.mean(%(f)s)\" % {\"f\" : feat})\n",
        "for outc in outcomes:\n",
        "    #exec(\"%(f)s = lm[\\\"AQ28_%(f)s\\\"][:, 1]\" % {\"f\" : outc})\n",
        "    exec(\"%(f)s = lm[\\\"%(f)s\\\"]\" % {\"f\" : outc})\n",
        "    exec(\"%(f)s = %(f)s / _N.std(%(f)s)\" % {\"f\" : outc})\n",
        "    exec(\"%(f)s = %(f)s - _N.mean(%(f)s)\" % {\"f\" : outc})\n",
        "for scrs in AQ28scores:\n",
        "    exec(\"%(f)s = lm[\\\"%(f)s\\\"]\" % {\"f\" : scrs})\n",
        "for rcf in rule_change_features:\n",
        "    #exec(\"%(f)s = lm[\\\"AQ28_%(f)s\\\"][:, 1]\" % {\"f\" : rcf})\n",
        "    exec(\"%(f)s = lm[\\\"%(f)s\\\"]\" % {\"f\" : rcf})\n",
        "    exec(\"%(f)s = %(f)s / _N.std(%(f)s)\" % {\"f\" : rcf})\n",
        "    exec(\"%(f)s = %(f)s - _N.mean(%(f)s)\" % {\"f\" : rcf})\n",
        "#Xs_train = Xs_train / _N.std(Xs_train, axis=0)\n",
        "\n",
        "####################  USE ALL DATA\n",
        "filtdat = _N.arange(AQ28scrs.shape[0])\n",
        "####################  OUR DATA HAS 1 very strong outlier - 1 person with \n",
        "####################  AQ-28 score of 30 or so.  Next closest person has \n",
        "####################  score of 42 (or so).  \n",
        "####################  using these \n",
        "filtdat = _N.where((AQ28scrs > 35) & (rout > 4))[0]\n",
        "for scrs in AQ28scores:\n",
        "    exec(\"%(f)s = lm[\\\"%(f)s\\\"]\" % {\"f\" : scrs})\n",
        "    exec(\"%(f)s = %(f)s / _N.std(%(f)s)\" % {\"f\" : scrs})\n",
        "    exec(\"%(f)s = %(f)s - _N.mean(%(f)s)\" % {\"f\" : scrs})\n",
        "print(\"Using %(fd)d of %(all)d participants\" % {\"fd\" : len(filtdat), \"all\" : AQ28scrs.shape[0]})\n",
        "all_features = features + outcomes + rule_change_features\n",
        "#X            = _N.empty((AQ28scrs.shape[0], len(all_features)))\n",
        "X            = _N.empty((len(filtdat), len(all_features)))\n",
        "iaf = -1\n",
        "for af in all_features:\n",
        "    iaf += 1\n",
        "    exec(\"feat = %s\" % af)\n",
        "    X[:, iaf] = feat[filtdat]\n",
        "\n",
        "scrs = _N.empty(100)\n",
        "for i in range(100):\n",
        "    y    = fact_pat[filtdat]\n",
        "    nrep = 1\n",
        "    rkf = RepeatedKFold(n_splits=4, n_repeats=nrep)#, random_state=0)\n",
        "    reg = LassoCV(cv=rkf, max_iter=3000).fit(X, y)\n",
        "    scrs[i] = reg.score(X, y)\n"
      ],
      "execution_count": 47,
      "outputs": [
        {
          "output_type": "stream",
          "name": "stdout",
          "text": [
            "Using 164 of 166 participants\n"
          ]
        }
      ]
    },
    {
      "cell_type": "code",
      "metadata": {
        "id": "qW8mzwpTT2BP",
        "colab": {
          "base_uri": "https://localhost:8080/",
          "height": 275
        },
        "outputId": "4cde9f95-5686-4d8f-b32e-b130fafda005"
      },
      "source": [
        "_plt.scatter(_N.random.randn(100)*0.05, scrs, color=\"black\")\n",
        "_plt.xlim(-0.4, 0.4)\n",
        "_plt.ylim(-0.3, 0.3)\n",
        "_plt.axhline(y=0, ls=\":\", color=\"grey\")\n",
        "_plt.xticks([])\n"
      ],
      "execution_count": 45,
      "outputs": [
        {
          "output_type": "execute_result",
          "data": {
            "text/plain": [
              "([], <a list of 0 Text major ticklabel objects>)"
            ]
          },
          "metadata": {},
          "execution_count": 45
        },
        {
          "output_type": "display_data",
          "data": {
            "image/png": "[encoded data removed]",
            "text/plain": [
              "<Figure size 432x288 with 1 Axes>"
            ]
          },
          "metadata": {
            "needs_background": "light"
          }
        }
      ]
    },
    {
      "cell_type": "code",
      "metadata": {
        "id": "DgJ9DucBUAhL",
        "outputId": "9260913b-29d3-4902-bf43-24a4c0fb417f",
        "colab": {
          "base_uri": "https://localhost:8080/"
        }
      },
      "source": [
        "_N.mean(scrs)\n"
      ],
      "execution_count": 46,
      "outputs": [
        {
          "output_type": "execute_result",
          "data": {
            "text/plain": [
              "0.13851817219602"
            ]
          },
          "metadata": {},
          "execution_count": 46
        }
      ]
    },
    {
      "cell_type": "code",
      "metadata": {
        "id": "0yf-WrLJX-Uq",
        "outputId": "9feea66b-cde3-44ad-afd5-7cef07357393",
        "colab": {
          "base_uri": "https://localhost:8080/"
        }
      },
      "source": [
        "len(ths)"
      ],
      "execution_count": 39,
      "outputs": [
        {
          "output_type": "execute_result",
          "data": {
            "text/plain": [
              "164"
            ]
          },
          "metadata": {},
          "execution_count": 39
        }
      ]
    },
    {
      "cell_type": "code",
      "metadata": {
        "id": "copgWtMIfywS",
        "outputId": "a997ddf9-e830-4196-e6db-f9fac622ee9f",
        "colab": {
          "base_uri": "https://localhost:8080/"
        }
      },
      "source": [
        "AQ28scrs.shape[0]"
      ],
      "execution_count": 40,
      "outputs": [
        {
          "output_type": "execute_result",
          "data": {
            "text/plain": [
              "166"
            ]
          },
          "metadata": {},
          "execution_count": 40
        }
      ]
    },
    {
      "cell_type": "code",
      "metadata": {
        "id": "fatwvw53f0bT"
      },
      "source": [
        ""
      ],
      "execution_count": null,
      "outputs": []
    }
  ]
}