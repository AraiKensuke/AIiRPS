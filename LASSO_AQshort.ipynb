{
  "nbformat": 4,
  "nbformat_minor": 0,
  "metadata": {
    "colab": {
      "name": "Untitled10.ipynb",
      "provenance": [],
      "toc_visible": true,
      "authorship_tag": "ABX9TyPobPpzaHdoTroMp08zRmE5",
      "include_colab_link": true
    },
    "kernelspec": {
      "name": "python3",
      "display_name": "Python 3"
    }
  },
  "cells": [
    {
      "cell_type": "markdown",
      "metadata": {
        "id": "view-in-github",
        "colab_type": "text"
      },
      "source": [
        "<a href=\"https://colab.research.google.com/github/AraiKensuke/AIiRPS/blob/master/LASSO_AQshort.ipynb\" target=\"_parent\"><img src=\"https://colab.research.google.com/assets/colab-badge.svg\" alt=\"Open In Colab\"/></a>"
      ]
    },
    {
      "cell_type": "markdown",
      "metadata": {
        "id": "14XdTEYotjWw"
      },
      "source": [
        "**Predicting AQ-Short and its subfactors**\n"
      ]
    },
    {
      "cell_type": "markdown",
      "metadata": {
        "id": "8LqrVkCoF_yL"
      },
      "source": [
        "# Get code from Github\n",
        "This notebook is largely the same as RPS_AQ28corr.py    if you want to run it from command line locally."
      ]
    },
    {
      "cell_type": "code",
      "metadata": {
        "id": "38v8kymIlIL_",
        "colab": {
          "base_uri": "https://localhost:8080/"
        },
        "outputId": "eb4cddfb-3e58-481e-8059-83cc0f2116a7"
      },
      "source": [
        "#########  clone and install necessary packages from github repositories\n",
        "\n",
        "import sys\n",
        "import importlib\n",
        "\n",
        "if importlib.util.find_spec(\"AIiRPS\") is None:\n",
        "  !git clone https://github.com/AraiKensuke/AIiRPS.git\n",
        "\n",
        "sys.path.insert(1, \"/content/AIiRPS\")\n"
      ],
      "execution_count": 1,
      "outputs": [
        {
          "output_type": "stream",
          "name": "stdout",
          "text": [
            "Cloning into 'AIiRPS'...\n",
            "remote: Enumerating objects: 355, done.\u001b[K\n",
            "remote: Counting objects: 100% (355/355), done.\u001b[K\n",
            "remote: Compressing objects: 100% (252/252), done.\u001b[K\n",
            "remote: Total 355 (delta 189), reused 219 (delta 93), pack-reused 0\u001b[K\n",
            "Receiving objects: 100% (355/355), 5.62 MiB | 10.66 MiB/s, done.\n",
            "Resolving deltas: 100% (189/189), done.\n"
          ]
        }
      ]
    },
    {
      "cell_type": "markdown",
      "metadata": {
        "id": "lPWfs74ksGt2"
      },
      "source": [
        "# Some functions\n",
        "\n",
        "Functions that attempt to do somethings about outliers."
      ]
    },
    {
      "cell_type": "code",
      "metadata": {
        "id": "QrtQiZibO9Kt"
      },
      "source": [
        "import numpy as _N\n",
        "import matplotlib.pyplot as _plt\n",
        "import scipy.stats as _ss\n",
        "from sklearn import linear_model\n",
        "import sklearn.linear_model as _skl\n",
        "from sklearn.model_selection import cross_val_score\n",
        "from sklearn.model_selection import ShuffleSplit\n",
        "from sklearn.model_selection import KFold\n",
        "from sklearn.model_selection import RepeatedKFold\n",
        "from sklearn.linear_model import LinearRegression\n",
        "from sklearn.linear_model import Ridge\n",
        "from sklearn.linear_model import HuberRegressor\n",
        "from sklearn.linear_model import RANSACRegressor\n",
        "from sklearn.linear_model import TheilSenRegressor\n",
        "from sklearn.linear_model import LassoCV\n",
        "\n",
        "\n",
        "def depickle(s):\n",
        "     import pickle\n",
        "     with open(s, \"rb\") as f:\n",
        "          lm = pickle.load(f)\n",
        "     return lm\n",
        "\n",
        "lm = depickle(\"/content/AIiRPS/predictAQ28dat/AQ28_vs_RPS.dmp\")\n",
        "\n",
        "AQ28scores = [\"AQ28scrs\", \"soc_skils\", \"imag\", \"rout\", \"switch\", \"fact_pat\"]\n",
        "AQ28scores_ab = [\"AQ28\", \"SS\", \"IM\", \"RT\", \"SW\", \"FP\"]\n",
        "\n",
        "outcomes = [\"netwins\",\n",
        "            \"win_aft_win\", \"tie_aft_win\", \"los_aft_win\",            \n",
        "            \"win_aft_tie\", \"tie_aft_tie\", \"los_aft_tie\",\n",
        "            \"win_aft_los\", \"tie_aft_los\", \"los_aft_los\",\n",
        "            \"u_or_d_tie\", \"u_or_d_res\", \"stay_tie\", \"stay_res\"]\n",
        "outcome_ab = [\"NW\",\n",
        "              \"WW\", \"TW\", \"LW\",\n",
        "              \"WT\", \"TT\", \"LT\",\n",
        "              \"WL\", \"TL\", \"LL\",\n",
        "              \"T\", \"W\"]  #  0.5 3.5 6.5 9.5\n",
        "\n",
        "\n",
        "rule_change_features = [\"pfrm_change36\", \"pfrm_change69\", \"pfrm_change912\", \"moresim\"]\n",
        "\n",
        "features = [\"entropyT2\", \"entropyW2\", \"entropyL2\", \"entropyU\", \"entropyS\", \"entropyD\",\n",
        "            \"isis_corr\", \"isis_lv\", \"entropyL\", \"entropyT\", \"entropyW\"]\n",
        "#            \"pfrm_change36\", \"pfrm_change69\", \"pfrm_change912\"]\n",
        "\n",
        "for feat in features:\n",
        "    #exec(\"%(f)s = lm[\\\"AQ28_%(f)s\\\"][:, 1]\" % {\"f\" : feat})\n",
        "    exec(\"%(f)s = lm[\\\"%(f)s\\\"]\" % {\"f\" : feat})\n",
        "    exec(\"%(f)s = %(f)s / _N.std(%(f)s)\" % {\"f\" : feat})\n",
        "    exec(\"%(f)s = %(f)s - _N.mean(%(f)s)\" % {\"f\" : feat})\n",
        "for outc in outcomes:\n",
        "    #exec(\"%(f)s = lm[\\\"AQ28_%(f)s\\\"][:, 1]\" % {\"f\" : outc})\n",
        "    exec(\"%(f)s = lm[\\\"%(f)s\\\"]\" % {\"f\" : outc})\n",
        "    exec(\"%(f)s = %(f)s / _N.std(%(f)s)\" % {\"f\" : outc})\n",
        "    exec(\"%(f)s = %(f)s - _N.mean(%(f)s)\" % {\"f\" : outc})\n",
        "for scrs in AQ28scores:\n",
        "    exec(\"%(f)s = lm[\\\"%(f)s\\\"]\" % {\"f\" : scrs})\n",
        "    exec(\"%(f)s = %(f)s / _N.std(%(f)s)\" % {\"f\" : scrs})\n",
        "    exec(\"%(f)s = %(f)s - _N.mean(%(f)s)\" % {\"f\" : scrs})\n",
        "for rcf in rule_change_features:\n",
        "    #exec(\"%(f)s = lm[\\\"AQ28_%(f)s\\\"][:, 1]\" % {\"f\" : rcf})\n",
        "    exec(\"%(f)s = lm[\\\"%(f)s\\\"]\" % {\"f\" : rcf})\n",
        "    exec(\"%(f)s = %(f)s / _N.std(%(f)s)\" % {\"f\" : rcf})\n",
        "    exec(\"%(f)s = %(f)s - _N.mean(%(f)s)\" % {\"f\" : rcf})\n",
        "#Xs_train = Xs_train / _N.std(Xs_train, axis=0)\n",
        "\n",
        "all_features = features + outcomes + rule_change_features\n",
        "X            = _N.empty((AQ28scrs.shape[0], len(all_features)))\n",
        "iaf = -1\n",
        "for af in all_features:\n",
        "    iaf += 1\n",
        "    exec(\"feat = %s\" % af)\n",
        "    X[:, iaf] = feat\n",
        "\n",
        "# targets    = [\"SB:SW\", \"SB:IM\", \"SB:SS\", \"AQ28\"]\n",
        "# #targets    = [\"Switch\", \"Imag\", \"Soc_skils\", \"AQ28\"]\n",
        "# #targets    = [\"Soc_skils\"]\n",
        "# #targets    = [\"Imag\"]\n",
        "# #targets    = [\"Switch\"]\n",
        "# reps       = 40\n",
        "# #AQ28scrs = soc_skils + imag + switch\n",
        "\n",
        "# allscores  = _N.empty((4, reps))\n",
        "\n",
        "# ths = _N.arange(AQ28scrs.shape[0], dtype=_N.int)\n",
        "# trainSz = 60\n",
        "# partitions = 100\n",
        "# all_trainingInds = _N.empty((partitions, trainSz), dtype=_N.int)\n",
        "# #  For each shuffle,\n",
        "\n",
        "# ti = -1\n",
        "# #fig = _plt.figure(figsize=(3, 5))\n",
        "# fig = _plt.figure(figsize=(6, 2.5))\n",
        "\n",
        "scrs = _N.empty(100)\n",
        "for i in range(100):\n",
        "    y    = switch\n",
        "    nrep = 1\n",
        "    rkf = RepeatedKFold(n_splits=4, n_repeats=nrep)#, random_state=0)\n",
        "    reg = LassoCV(cv=rkf, max_iter=3000).fit(X, y)\n",
        "    scrs[i] = reg.score(X, y)\n"
      ],
      "execution_count": 3,
      "outputs": []
    },
    {
      "cell_type": "code",
      "metadata": {
        "id": "8830rKXITaoH",
        "outputId": "4361f192-b896-4218-c0b7-c572276a2736",
        "colab": {
          "base_uri": "https://localhost:8080/"
        }
      },
      "source": [
        "scrs"
      ],
      "execution_count": 4,
      "outputs": [
        {
          "output_type": "execute_result",
          "data": {
            "text/plain": [
              "array([0.12421405, 0.1386486 , 0.13193449, 0.12421405, 0.1386486 ,\n",
              "       0.15146118, 0.10823674, 0.13193449, 0.14533264, 0.16280111,\n",
              "       0.15717052, 0.14533264, 0.10074455, 0.10823674, 0.        ,\n",
              "       0.08261094, 0.13193449, 0.15717052, 0.10823674, 0.1386486 ,\n",
              "       0.17636873, 0.1719553 , 0.16769787, 0.10823674, 0.1386486 ,\n",
              "       0.14533264, 0.10074455, 0.17636873, 0.08261094, 0.1386486 ,\n",
              "       0.16280111, 0.13193449, 0.16280111, 0.11551666, 0.12421405,\n",
              "       0.18080877, 0.12421405, 0.12421405, 0.16769787, 0.1719553 ,\n",
              "       0.10074455, 0.12421405, 0.16280111, 0.17636873, 0.1719553 ,\n",
              "       0.12421405, 0.10823674, 0.14533264, 0.10823674, 0.08261094,\n",
              "       0.1719553 , 0.11551666, 0.07208623, 0.16769787, 0.1386486 ,\n",
              "       0.15146118, 0.18490842, 0.15146118, 0.12421405, 0.12421405,\n",
              "       0.15717052, 0.14533264, 0.1719553 , 0.16769787, 0.13193449,\n",
              "       0.14533264, 0.16769787, 0.10074455, 0.12421405, 0.13193449,\n",
              "       0.14533264, 0.20209707, 0.16769787, 0.10823674, 0.11551666,\n",
              "       0.16280111, 0.1386486 , 0.16769787, 0.16280111, 0.15717052,\n",
              "       0.1719553 , 0.13193449, 0.08261094, 0.1719553 , 0.11551666,\n",
              "       0.15717052, 0.16769787, 0.16280111, 0.14533264, 0.13193449,\n",
              "       0.14533264, 0.13193449, 0.13193449, 0.1719553 , 0.16280111,\n",
              "       0.16280111, 0.10823674, 0.10823674, 0.19783032, 0.13193449])"
            ]
          },
          "metadata": {},
          "execution_count": 4
        }
      ]
    },
    {
      "cell_type": "code",
      "metadata": {
        "id": "qW8mzwpTT2BP",
        "outputId": "d7b075df-a27d-4f56-dee8-5645ed656ffe",
        "colab": {
          "base_uri": "https://localhost:8080/",
          "height": 275
        }
      },
      "source": [
        "_plt.scatter(_N.random.randn(100)*0.05, scrs, color=\"black\")\n",
        "_plt.xlim(-0.4, 0.4)\n",
        "_plt.ylim(-0.3, 0.3)\n",
        "_plt.axhline(y=0, ls=\":\", color=\"grey\")\n",
        "_plt.xticks([])\n"
      ],
      "execution_count": 8,
      "outputs": [
        {
          "output_type": "execute_result",
          "data": {
            "text/plain": [
              "([], <a list of 0 Text major ticklabel objects>)"
            ]
          },
          "metadata": {},
          "execution_count": 8
        },
        {
          "output_type": "display_data",
          "data": {
            "image/png": "[encoded data removed]",
            "text/plain": [
              "<Figure size 432x288 with 1 Axes>"
            ]
          },
          "metadata": {
            "needs_background": "light"
          }
        }
      ]
    },
    {
      "cell_type": "code",
      "metadata": {
        "id": "DgJ9DucBUAhL"
      },
      "source": [
        ""
      ],
      "execution_count": null,
      "outputs": []
    }
  ]
}