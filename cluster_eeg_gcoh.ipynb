{
  "nbformat": 4,
  "nbformat_minor": 0,
  "metadata": {
    "colab": {
      "name": "Untitled13.ipynb",
      "provenance": [],
      "collapsed_sections": [],
      "authorship_tag": "ABX9TyNoK569VPco/7JB94Z9EARq",
      "include_colab_link": true
    },
    "kernelspec": {
      "name": "python3",
      "display_name": "Python 3"
    }
  },
  "cells": [
    {
      "cell_type": "markdown",
      "metadata": {
        "id": "view-in-github",
        "colab_type": "text"
      },
      "source": [
        "<a href=\"https://colab.research.google.com/github/AraiKensuke/AIiRPS/blob/master/cluster_eeg_gcoh.ipynb\" target=\"_parent\"><img src=\"https://colab.research.google.com/assets/colab-badge.svg\" alt=\"Open In Colab\"/></a>"
      ]
    },
    {
      "cell_type": "code",
      "source": [
        "#########  clone and install necessary packages from github repositories\n",
        "\n",
        "import sys\n",
        "import importlib\n",
        "\n",
        "if importlib.util.find_spec(\"GCoh\") is None:\n",
        "  !git clone https://github.com/AraiKensuke/GCoh.git\n",
        "\n",
        "if importlib.util.find_spec(\"mne\") is None:\n",
        "  !pip install mne\n",
        "\n",
        "sys.path.insert(1, \"/content/GCoh\")    #  add these to searchpath for python module"
      ],
      "metadata": {
        "colab": {
          "base_uri": "https://localhost:8080/"
        },
        "id": "WOUdKlxd_jAa",
        "outputId": "feec12a1-8dbe-4368-db28-97a5ce645683"
      },
      "execution_count": 1,
      "outputs": [
        {
          "output_type": "stream",
          "name": "stdout",
          "text": [
            "Cloning into 'GCoh'...\n",
            "remote: Enumerating objects: 191, done.\u001b[K\n",
            "remote: Counting objects: 100% (191/191), done.\u001b[K\n",
            "remote: Compressing objects: 100% (149/149), done.\u001b[K\n",
            "remote: Total 191 (delta 119), reused 83 (delta 37), pack-reused 0\u001b[K\n",
            "Receiving objects: 100% (191/191), 450.52 KiB | 2.13 MiB/s, done.\n",
            "Resolving deltas: 100% (119/119), done.\n",
            "Looking in indexes: https://pypi.org/simple, https://us-python.pkg.dev/colab-wheels/public/simple/\n",
            "Collecting mne\n",
            "  Downloading mne-1.2.2-py3-none-any.whl (7.6 MB)\n",
            "\u001b[K     |████████████████████████████████| 7.6 MB 6.1 MB/s \n",
            "\u001b[?25hRequirement already satisfied: decorator in /usr/local/lib/python3.7/dist-packages (from mne) (4.4.2)\n",
            "Requirement already satisfied: matplotlib in /usr/local/lib/python3.7/dist-packages (from mne) (3.2.2)\n",
            "Requirement already satisfied: scipy>=1.1.0 in /usr/local/lib/python3.7/dist-packages (from mne) (1.7.3)\n",
            "Requirement already satisfied: tqdm in /usr/local/lib/python3.7/dist-packages (from mne) (4.64.1)\n",
            "Requirement already satisfied: packaging in /usr/local/lib/python3.7/dist-packages (from mne) (21.3)\n",
            "Requirement already satisfied: numpy>=1.15.4 in /usr/local/lib/python3.7/dist-packages (from mne) (1.21.6)\n",
            "Requirement already satisfied: pooch>=1.5 in /usr/local/lib/python3.7/dist-packages (from mne) (1.6.0)\n",
            "Requirement already satisfied: jinja2 in /usr/local/lib/python3.7/dist-packages (from mne) (2.11.3)\n",
            "Requirement already satisfied: appdirs>=1.3.0 in /usr/local/lib/python3.7/dist-packages (from pooch>=1.5->mne) (1.4.4)\n",
            "Requirement already satisfied: requests>=2.19.0 in /usr/local/lib/python3.7/dist-packages (from pooch>=1.5->mne) (2.23.0)\n",
            "Requirement already satisfied: pyparsing!=3.0.5,>=2.0.2 in /usr/local/lib/python3.7/dist-packages (from packaging->mne) (3.0.9)\n",
            "Requirement already satisfied: urllib3!=1.25.0,!=1.25.1,<1.26,>=1.21.1 in /usr/local/lib/python3.7/dist-packages (from requests>=2.19.0->pooch>=1.5->mne) (1.24.3)\n",
            "Requirement already satisfied: chardet<4,>=3.0.2 in /usr/local/lib/python3.7/dist-packages (from requests>=2.19.0->pooch>=1.5->mne) (3.0.4)\n",
            "Requirement already satisfied: certifi>=2017.4.17 in /usr/local/lib/python3.7/dist-packages (from requests>=2.19.0->pooch>=1.5->mne) (2022.9.24)\n",
            "Requirement already satisfied: idna<3,>=2.5 in /usr/local/lib/python3.7/dist-packages (from requests>=2.19.0->pooch>=1.5->mne) (2.10)\n",
            "Requirement already satisfied: MarkupSafe>=0.23 in /usr/local/lib/python3.7/dist-packages (from jinja2->mne) (2.0.1)\n",
            "Requirement already satisfied: python-dateutil>=2.1 in /usr/local/lib/python3.7/dist-packages (from matplotlib->mne) (2.8.2)\n",
            "Requirement already satisfied: cycler>=0.10 in /usr/local/lib/python3.7/dist-packages (from matplotlib->mne) (0.11.0)\n",
            "Requirement already satisfied: kiwisolver>=1.0.1 in /usr/local/lib/python3.7/dist-packages (from matplotlib->mne) (1.4.4)\n",
            "Requirement already satisfied: typing-extensions in /usr/local/lib/python3.7/dist-packages (from kiwisolver>=1.0.1->matplotlib->mne) (4.1.1)\n",
            "Requirement already satisfied: six>=1.5 in /usr/local/lib/python3.7/dist-packages (from python-dateutil>=2.1->matplotlib->mne) (1.15.0)\n",
            "Installing collected packages: mne\n",
            "Successfully installed mne-1.2.2\n"
          ]
        }
      ]
    },
    {
      "cell_type": "code",
      "source": [
        "import GCoh.windowed_gcoh as _w_gcoh\n",
        "\n",
        "def calc_gcoh(X_cm, datset, bad_chs, wnd, slideby):\n",
        "  #  assign a version number for GCoh calculation here.\n",
        "\n",
        "  #wnd, slideby      = preprocess_ver.get_win_slideby(gcoh_ver)\n",
        "\n",
        "  #cm    = 9     #  this is when using Q20\n",
        "  cm    = None   #  this is when using DSi\n",
        "\n",
        "  ch_w_CM, rm_chs, ch_names, ch_types = datconf.getConfig(dataset, sim_nchs=10, cm=cm)\n",
        "\n",
        "  if bad_chs is not None:\n",
        "      rm_chs.extend(bad_chs)\n",
        "  ch_picks = _N.setdiff1d(ch_w_CM, _N.array(rm_chs))\n",
        "  arr_ch_picks = _N.array(ch_picks)\n",
        "\n",
        "  info = mne.create_info(ch_names=(_N.array(ch_names)[ch_picks]).tolist(), ch_types=(_N.array(ch_types)[ch_picks]).tolist(), sfreq=Fs)\n",
        "\n",
        "  datconf.set_montage(dataset, info)\n",
        "\n",
        "  dpss_bw=7\n",
        "  f, findx, Ctot, Cvec = _w_gcoh.windowed_gcoh(Fs, wnd, slideby, X_cm, ch_w_CM, ch_picks, info, dpss_bw=dpss_bw)\n",
        "\n",
        "  pkldat = {\"VEC\" : Cvec, \"Cs\" : Ctot, \"fs\" : f[findx], \"chs_picks\" : arr_ch_picks, \"dpss_bw\" : dpss_bw}\n",
        "\n",
        "  return pkldat"
      ],
      "metadata": {
        "id": "7hlTteUHdml2"
      },
      "execution_count": 20,
      "outputs": []
    },
    {
      "cell_type": "code",
      "source": [
        "import numpy as _N\n",
        "import scipy.io as _scio\n",
        "import scipy.stats as _ss\n",
        "import matplotlib.pyplot as _plt\n",
        "from scipy.signal import savgol_filter\n",
        "from sklearn import mixture\n",
        "import mne\n",
        "from GCoh.eeg_util import unique_in_order_of_appearance, increasing_labels_mapping, rmpd_lab_trnsfrm, find_or_retrieve_GMM_labels, shift_correlated_shuffle, mtfftc\n",
        "import GCoh.skull_plot as _sp\n",
        "import os\n",
        "#import AIiRPS.rpsms as rpsms\n",
        "import GCoh.preprocess_ver as _ppv\n",
        "#from AIiRPS.utils.dir_util import getResultFN\n",
        "import GCoh.datconfig as datconf\n",
        "\n",
        "os.environ[\"GCoh_on_colab\"] = \"1\"\n",
        "\n",
        "import sys\n",
        "#from sumojam.devscripts.cmdlineargs import process_keyval_args\n",
        "\n",
        "def depickle(s):\n",
        "     import pickle\n",
        "     with open(s, \"rb\") as f:\n",
        "          lm = pickle.load(f)\n",
        "     return lm\n",
        "\n",
        "\n",
        "dataset =    datconf._RPS\n",
        "c    = 2\n",
        "if dataset == datconf._SIM:\n",
        "    Fs   = 200\n",
        "if dataset == datconf._RPS or dataset == datconf._STROOP:\n",
        "    Fs   = 300\n",
        "elif dataset == datconf._GONOGO:\n",
        "    Fs   = 500\n",
        "elif dataset == datconf._AAFFECT:\n",
        "    Fs   = 500\n",
        "\n",
        "ch_w_CM, rm_chs, list_ch_names, ch_types = datconf.getConfig(dataset, sim_nchs=10)\n",
        "arr_ch_names = _N.array(list_ch_names)\n",
        "\n",
        "# arr_ch_names=_N.array([\"P3\", \"C3\", \"F3\", \"Fz\", \"F4\",   \n",
        "#                        \"C4\", \"P4\", \"Cz\", \"Pz\", \"A1\",    #  \"Pz\" is \"CM\"\n",
        "#                        \"Fp1\",\"Fp2\",\"T3\", \"T5\", \"O1\",\n",
        "#                        \"O2\", \"F7\", \"F8\", \"A2\", \"T6\",\n",
        "#                        \"T4\"])\n",
        "\n",
        "ev_n   = 0\n",
        "\n",
        "\n",
        "_WIDE = 0\n",
        "_MED  = 1\n",
        "_FINE = 2\n",
        "_FINE1 = 3   #\n",
        "\n",
        "dat=\"EyesOpenClose15_raw.edf\"\n",
        "\n",
        "#bin     = 512\n",
        "#slide   = 64\n",
        "_WIDE = 0\n",
        "_FINE = 1\n",
        "\n",
        "manual_cluster=False\n",
        "armv_ver = 1\n",
        "gcoh_ver = 3   #  bandwidth 7 ver 1, bandwidth 5 ver 2, bandwidth 9 ver 3\n",
        "\n",
        "#process_keyval_args(globals(), sys.argv[1:])\n",
        "win, slideby      = _ppv.get_win_slideby(gcoh_ver)\n",
        "\n",
        "hlfOverlap = int((win/slideby)*0.5)\n",
        "\n",
        "eegedf = mne.io.read_raw_edf(dat)\n",
        "eegdat = eegedf.get_data()\n",
        "#s = \"../Neurable/DSi_dat/%(dsf)s_artfctrmvd_v%(av)d/%(dsf)s_gcoh_%(wn)d_%(sld)d_v%(av)d%(gv)d.dmp\" % {\"gf\" : rpsm[dat], \"dsf\" : dat, \"av\" : armv_ver, \"gv\" : gcoh_ver, \"wn\" : bin, \"sld\" : slide}\n",
        "#print(\"!!!!!!!!!!   %s\" % s)\n",
        "#lm         = depickle(\"../DSi_dat/%(dsf)s_artfctrmvd/v%(av)d/%(dsf)s_gcoh_%(wn)d_%(sld)d_v%(av)d%(gv)d.dmp\" % {\"gf\" : rpsms.rpsm_eeg_as_key[dat], \"dsf\" : dat, \"av\" : armv_ver, \"gv\" : gcoh_ver, \"wn\" : win, \"sld\" : slideby})\n",
        "#lm         = depickle(datconf.getDataFN(dataset, \"%(dsf)s_artfctrmvd/v%(av)d/%(dsf)s_gcoh_%(wn)d_%(sld)d_v%(av)d%(gv)d.dmp\" % {\"dsf\" : dat, \"av\" : armv_ver, \"gv\" : gcoh_ver, \"wn\" : win, \"sld\" : slideby}))\n",
        "# #lm         = depickle(\"../Neurable/DSi_dat/%(dat)s_gcoh_%(w)s_%(s)s.dmp\" % {\"dat\" : dat, \"w\" : bin, \"s\" : slide})\n",
        "# #A_gcoh_mat = _scio.loadmat(\"DSi_dat/%(dat)s_gcoh_%(w)d_%(sl)d.mat\" % {\"dat\" : dat, \"w\" : bin, \"sl\" : slide})\n",
        "# #A_gcoh     = A_gcoh_mat[\"Cs\"]\n",
        "\n",
        "#mne.filter.filter_data(eegdat[])\n",
        "#strt       = 0  #  if start at middle of experiment\n",
        "#A_gcoh     = lm[\"Cs\"][strt:]\n",
        "#n_fs       = lm[\"fs\"]\n",
        "\n"
      ],
      "metadata": {
        "colab": {
          "base_uri": "https://localhost:8080/"
        },
        "id": "Pma-VCjh-4jj",
        "outputId": "a746485d-5d38-4229-c8aa-490cbd2d9a39"
      },
      "execution_count": 6,
      "outputs": [
        {
          "output_type": "stream",
          "name": "stdout",
          "text": [
            "Extracting EDF parameters from /content/EyesOpenClose15_raw.edf...\n",
            "EDF file detected\n",
            "Setting channel info structure...\n",
            "Creating raw.info structure...\n"
          ]
        },
        {
          "output_type": "stream",
          "name": "stderr",
          "text": [
            "<ipython-input-6-11451a83736e>:72: RuntimeWarning: Number of records from the header does not match the file size (perhaps the recording was not stopped before exiting). Inferring from the file size.\n",
            "  eegedf = mne.io.read_raw_edf(dat)\n"
          ]
        }
      ]
    },
    {
      "cell_type": "code",
      "source": [
        "xfs = _N.array(eegdat)\n",
        "\n",
        "for ich in range(25):\n",
        "    xfs[ich] = mne.filter.filter_data(eegdat[ich], 1000, 1, 100, verbose=False)"
      ],
      "metadata": {
        "id": "TQsGSSz5p-03"
      },
      "execution_count": 14,
      "outputs": []
    },
    {
      "cell_type": "code",
      "source": [
        "gcoh_pkl = calc_gcoh(xfs.T, dataset, None, 512, 256)"
      ],
      "metadata": {
        "id": "PkJZfWMdqXhf",
        "outputId": "2f967f4a-283d-47ec-a196-c430933de6ff",
        "colab": {
          "base_uri": "https://localhost:8080/"
        }
      },
      "execution_count": 24,
      "outputs": [
        {
          "output_type": "stream",
          "name": "stdout",
          "text": [
            "    Using multitaper spectrum estimation with 11 DPSS windows\n",
            "Not setting metadata\n",
            "1 matching events found\n",
            "No baseline correction applied\n",
            "0 projection items activated\n",
            "0  512\n",
            "256  768\n",
            "512  1024\n",
            "768  1280\n"
          ]
        },
        {
          "output_type": "stream",
          "name": "stderr",
          "text": [
            "/content/GCoh/windowed_gcoh.py:68: RuntimeWarning: Epochs are not baseline corrected or enough highpass filtered. Cross-spectral density may be inaccurate.\n",
            "  csd = mtf.csd_multitaper(epochs, tmin=(t0/Fs), tmax=(t1/Fs), fmin=fMin, fmax=fMax, n_fft=wnd, bandwidth=dpss_bw, adaptive=False, low_bias=True, projs=None, n_jobs=1, verbose=False)\n",
            "/content/GCoh/windowed_gcoh.py:68: RuntimeWarning: Epochs are not baseline corrected or enough highpass filtered. Cross-spectral density may be inaccurate.\n",
            "  csd = mtf.csd_multitaper(epochs, tmin=(t0/Fs), tmax=(t1/Fs), fmin=fMin, fmax=fMax, n_fft=wnd, bandwidth=dpss_bw, adaptive=False, low_bias=True, projs=None, n_jobs=1, verbose=False)\n",
            "/content/GCoh/windowed_gcoh.py:68: RuntimeWarning: Epochs are not baseline corrected or enough highpass filtered. Cross-spectral density may be inaccurate.\n",
            "  csd = mtf.csd_multitaper(epochs, tmin=(t0/Fs), tmax=(t1/Fs), fmin=fMin, fmax=fMax, n_fft=wnd, bandwidth=dpss_bw, adaptive=False, low_bias=True, projs=None, n_jobs=1, verbose=False)\n",
            "/content/GCoh/windowed_gcoh.py:68: RuntimeWarning: Epochs are not baseline corrected or enough highpass filtered. Cross-spectral density may be inaccurate.\n",
            "  csd = mtf.csd_multitaper(epochs, tmin=(t0/Fs), tmax=(t1/Fs), fmin=fMin, fmax=fMax, n_fft=wnd, bandwidth=dpss_bw, adaptive=False, low_bias=True, projs=None, n_jobs=1, verbose=False)\n"
          ]
        },
        {
          "output_type": "stream",
          "name": "stdout",
          "text": [
            "1024  1536\n",
            "1280  1792\n",
            "1536  2048\n"
          ]
        },
        {
          "output_type": "stream",
          "name": "stderr",
          "text": [
            "/content/GCoh/windowed_gcoh.py:68: RuntimeWarning: Epochs are not baseline corrected or enough highpass filtered. Cross-spectral density may be inaccurate.\n",
            "  csd = mtf.csd_multitaper(epochs, tmin=(t0/Fs), tmax=(t1/Fs), fmin=fMin, fmax=fMax, n_fft=wnd, bandwidth=dpss_bw, adaptive=False, low_bias=True, projs=None, n_jobs=1, verbose=False)\n",
            "/content/GCoh/windowed_gcoh.py:68: RuntimeWarning: Epochs are not baseline corrected or enough highpass filtered. Cross-spectral density may be inaccurate.\n",
            "  csd = mtf.csd_multitaper(epochs, tmin=(t0/Fs), tmax=(t1/Fs), fmin=fMin, fmax=fMax, n_fft=wnd, bandwidth=dpss_bw, adaptive=False, low_bias=True, projs=None, n_jobs=1, verbose=False)\n",
            "/content/GCoh/windowed_gcoh.py:68: RuntimeWarning: Epochs are not baseline corrected or enough highpass filtered. Cross-spectral density may be inaccurate.\n",
            "  csd = mtf.csd_multitaper(epochs, tmin=(t0/Fs), tmax=(t1/Fs), fmin=fMin, fmax=fMax, n_fft=wnd, bandwidth=dpss_bw, adaptive=False, low_bias=True, projs=None, n_jobs=1, verbose=False)\n"
          ]
        },
        {
          "output_type": "stream",
          "name": "stdout",
          "text": [
            "1792  2304\n",
            "2048  2560\n",
            "2304  2816\n"
          ]
        },
        {
          "output_type": "stream",
          "name": "stderr",
          "text": [
            "/content/GCoh/windowed_gcoh.py:68: RuntimeWarning: Epochs are not baseline corrected or enough highpass filtered. Cross-spectral density may be inaccurate.\n",
            "  csd = mtf.csd_multitaper(epochs, tmin=(t0/Fs), tmax=(t1/Fs), fmin=fMin, fmax=fMax, n_fft=wnd, bandwidth=dpss_bw, adaptive=False, low_bias=True, projs=None, n_jobs=1, verbose=False)\n",
            "/content/GCoh/windowed_gcoh.py:68: RuntimeWarning: Epochs are not baseline corrected or enough highpass filtered. Cross-spectral density may be inaccurate.\n",
            "  csd = mtf.csd_multitaper(epochs, tmin=(t0/Fs), tmax=(t1/Fs), fmin=fMin, fmax=fMax, n_fft=wnd, bandwidth=dpss_bw, adaptive=False, low_bias=True, projs=None, n_jobs=1, verbose=False)\n",
            "/content/GCoh/windowed_gcoh.py:68: RuntimeWarning: Epochs are not baseline corrected or enough highpass filtered. Cross-spectral density may be inaccurate.\n",
            "  csd = mtf.csd_multitaper(epochs, tmin=(t0/Fs), tmax=(t1/Fs), fmin=fMin, fmax=fMax, n_fft=wnd, bandwidth=dpss_bw, adaptive=False, low_bias=True, projs=None, n_jobs=1, verbose=False)\n"
          ]
        },
        {
          "output_type": "stream",
          "name": "stdout",
          "text": [
            "2560  3072\n",
            "2816  3328\n",
            "3072  3584\n"
          ]
        },
        {
          "output_type": "stream",
          "name": "stderr",
          "text": [
            "/content/GCoh/windowed_gcoh.py:68: RuntimeWarning: Epochs are not baseline corrected or enough highpass filtered. Cross-spectral density may be inaccurate.\n",
            "  csd = mtf.csd_multitaper(epochs, tmin=(t0/Fs), tmax=(t1/Fs), fmin=fMin, fmax=fMax, n_fft=wnd, bandwidth=dpss_bw, adaptive=False, low_bias=True, projs=None, n_jobs=1, verbose=False)\n",
            "/content/GCoh/windowed_gcoh.py:68: RuntimeWarning: Epochs are not baseline corrected or enough highpass filtered. Cross-spectral density may be inaccurate.\n",
            "  csd = mtf.csd_multitaper(epochs, tmin=(t0/Fs), tmax=(t1/Fs), fmin=fMin, fmax=fMax, n_fft=wnd, bandwidth=dpss_bw, adaptive=False, low_bias=True, projs=None, n_jobs=1, verbose=False)\n",
            "/content/GCoh/windowed_gcoh.py:68: RuntimeWarning: Epochs are not baseline corrected or enough highpass filtered. Cross-spectral density may be inaccurate.\n",
            "  csd = mtf.csd_multitaper(epochs, tmin=(t0/Fs), tmax=(t1/Fs), fmin=fMin, fmax=fMax, n_fft=wnd, bandwidth=dpss_bw, adaptive=False, low_bias=True, projs=None, n_jobs=1, verbose=False)\n"
          ]
        },
        {
          "output_type": "stream",
          "name": "stdout",
          "text": [
            "3328  3840\n",
            "3584  4096\n",
            "3840  4352\n"
          ]
        },
        {
          "output_type": "stream",
          "name": "stderr",
          "text": [
            "/content/GCoh/windowed_gcoh.py:68: RuntimeWarning: Epochs are not baseline corrected or enough highpass filtered. Cross-spectral density may be inaccurate.\n",
            "  csd = mtf.csd_multitaper(epochs, tmin=(t0/Fs), tmax=(t1/Fs), fmin=fMin, fmax=fMax, n_fft=wnd, bandwidth=dpss_bw, adaptive=False, low_bias=True, projs=None, n_jobs=1, verbose=False)\n",
            "/content/GCoh/windowed_gcoh.py:68: RuntimeWarning: Epochs are not baseline corrected or enough highpass filtered. Cross-spectral density may be inaccurate.\n",
            "  csd = mtf.csd_multitaper(epochs, tmin=(t0/Fs), tmax=(t1/Fs), fmin=fMin, fmax=fMax, n_fft=wnd, bandwidth=dpss_bw, adaptive=False, low_bias=True, projs=None, n_jobs=1, verbose=False)\n",
            "/content/GCoh/windowed_gcoh.py:68: RuntimeWarning: Epochs are not baseline corrected or enough highpass filtered. Cross-spectral density may be inaccurate.\n",
            "  csd = mtf.csd_multitaper(epochs, tmin=(t0/Fs), tmax=(t1/Fs), fmin=fMin, fmax=fMax, n_fft=wnd, bandwidth=dpss_bw, adaptive=False, low_bias=True, projs=None, n_jobs=1, verbose=False)\n"
          ]
        },
        {
          "output_type": "stream",
          "name": "stdout",
          "text": [
            "4096  4608\n",
            "4352  4864\n",
            "4608  5120\n"
          ]
        },
        {
          "output_type": "stream",
          "name": "stderr",
          "text": [
            "/content/GCoh/windowed_gcoh.py:68: RuntimeWarning: Epochs are not baseline corrected or enough highpass filtered. Cross-spectral density may be inaccurate.\n",
            "  csd = mtf.csd_multitaper(epochs, tmin=(t0/Fs), tmax=(t1/Fs), fmin=fMin, fmax=fMax, n_fft=wnd, bandwidth=dpss_bw, adaptive=False, low_bias=True, projs=None, n_jobs=1, verbose=False)\n",
            "/content/GCoh/windowed_gcoh.py:68: RuntimeWarning: Epochs are not baseline corrected or enough highpass filtered. Cross-spectral density may be inaccurate.\n",
            "  csd = mtf.csd_multitaper(epochs, tmin=(t0/Fs), tmax=(t1/Fs), fmin=fMin, fmax=fMax, n_fft=wnd, bandwidth=dpss_bw, adaptive=False, low_bias=True, projs=None, n_jobs=1, verbose=False)\n",
            "/content/GCoh/windowed_gcoh.py:68: RuntimeWarning: Epochs are not baseline corrected or enough highpass filtered. Cross-spectral density may be inaccurate.\n",
            "  csd = mtf.csd_multitaper(epochs, tmin=(t0/Fs), tmax=(t1/Fs), fmin=fMin, fmax=fMax, n_fft=wnd, bandwidth=dpss_bw, adaptive=False, low_bias=True, projs=None, n_jobs=1, verbose=False)\n"
          ]
        },
        {
          "output_type": "stream",
          "name": "stdout",
          "text": [
            "4864  5376\n",
            "5120  5632\n",
            "5376  5888\n"
          ]
        },
        {
          "output_type": "stream",
          "name": "stderr",
          "text": [
            "/content/GCoh/windowed_gcoh.py:68: RuntimeWarning: Epochs are not baseline corrected or enough highpass filtered. Cross-spectral density may be inaccurate.\n",
            "  csd = mtf.csd_multitaper(epochs, tmin=(t0/Fs), tmax=(t1/Fs), fmin=fMin, fmax=fMax, n_fft=wnd, bandwidth=dpss_bw, adaptive=False, low_bias=True, projs=None, n_jobs=1, verbose=False)\n",
            "/content/GCoh/windowed_gcoh.py:68: RuntimeWarning: Epochs are not baseline corrected or enough highpass filtered. Cross-spectral density may be inaccurate.\n",
            "  csd = mtf.csd_multitaper(epochs, tmin=(t0/Fs), tmax=(t1/Fs), fmin=fMin, fmax=fMax, n_fft=wnd, bandwidth=dpss_bw, adaptive=False, low_bias=True, projs=None, n_jobs=1, verbose=False)\n",
            "/content/GCoh/windowed_gcoh.py:68: RuntimeWarning: Epochs are not baseline corrected or enough highpass filtered. Cross-spectral density may be inaccurate.\n",
            "  csd = mtf.csd_multitaper(epochs, tmin=(t0/Fs), tmax=(t1/Fs), fmin=fMin, fmax=fMax, n_fft=wnd, bandwidth=dpss_bw, adaptive=False, low_bias=True, projs=None, n_jobs=1, verbose=False)\n"
          ]
        },
        {
          "output_type": "stream",
          "name": "stdout",
          "text": [
            "5632  6144\n",
            "5888  6400\n",
            "6144  6656\n"
          ]
        },
        {
          "output_type": "stream",
          "name": "stderr",
          "text": [
            "/content/GCoh/windowed_gcoh.py:68: RuntimeWarning: Epochs are not baseline corrected or enough highpass filtered. Cross-spectral density may be inaccurate.\n",
            "  csd = mtf.csd_multitaper(epochs, tmin=(t0/Fs), tmax=(t1/Fs), fmin=fMin, fmax=fMax, n_fft=wnd, bandwidth=dpss_bw, adaptive=False, low_bias=True, projs=None, n_jobs=1, verbose=False)\n",
            "/content/GCoh/windowed_gcoh.py:68: RuntimeWarning: Epochs are not baseline corrected or enough highpass filtered. Cross-spectral density may be inaccurate.\n",
            "  csd = mtf.csd_multitaper(epochs, tmin=(t0/Fs), tmax=(t1/Fs), fmin=fMin, fmax=fMax, n_fft=wnd, bandwidth=dpss_bw, adaptive=False, low_bias=True, projs=None, n_jobs=1, verbose=False)\n",
            "/content/GCoh/windowed_gcoh.py:68: RuntimeWarning: Epochs are not baseline corrected or enough highpass filtered. Cross-spectral density may be inaccurate.\n",
            "  csd = mtf.csd_multitaper(epochs, tmin=(t0/Fs), tmax=(t1/Fs), fmin=fMin, fmax=fMax, n_fft=wnd, bandwidth=dpss_bw, adaptive=False, low_bias=True, projs=None, n_jobs=1, verbose=False)\n"
          ]
        },
        {
          "output_type": "stream",
          "name": "stdout",
          "text": [
            "6400  6912\n",
            "6656  7168\n",
            "6912  7424\n"
          ]
        },
        {
          "output_type": "stream",
          "name": "stderr",
          "text": [
            "/content/GCoh/windowed_gcoh.py:68: RuntimeWarning: Epochs are not baseline corrected or enough highpass filtered. Cross-spectral density may be inaccurate.\n",
            "  csd = mtf.csd_multitaper(epochs, tmin=(t0/Fs), tmax=(t1/Fs), fmin=fMin, fmax=fMax, n_fft=wnd, bandwidth=dpss_bw, adaptive=False, low_bias=True, projs=None, n_jobs=1, verbose=False)\n",
            "/content/GCoh/windowed_gcoh.py:68: RuntimeWarning: Epochs are not baseline corrected or enough highpass filtered. Cross-spectral density may be inaccurate.\n",
            "  csd = mtf.csd_multitaper(epochs, tmin=(t0/Fs), tmax=(t1/Fs), fmin=fMin, fmax=fMax, n_fft=wnd, bandwidth=dpss_bw, adaptive=False, low_bias=True, projs=None, n_jobs=1, verbose=False)\n",
            "/content/GCoh/windowed_gcoh.py:68: RuntimeWarning: Epochs are not baseline corrected or enough highpass filtered. Cross-spectral density may be inaccurate.\n",
            "  csd = mtf.csd_multitaper(epochs, tmin=(t0/Fs), tmax=(t1/Fs), fmin=fMin, fmax=fMax, n_fft=wnd, bandwidth=dpss_bw, adaptive=False, low_bias=True, projs=None, n_jobs=1, verbose=False)\n"
          ]
        },
        {
          "output_type": "stream",
          "name": "stdout",
          "text": [
            "7168  7680\n",
            "7424  7936\n",
            "7680  8192\n"
          ]
        },
        {
          "output_type": "stream",
          "name": "stderr",
          "text": [
            "/content/GCoh/windowed_gcoh.py:68: RuntimeWarning: Epochs are not baseline corrected or enough highpass filtered. Cross-spectral density may be inaccurate.\n",
            "  csd = mtf.csd_multitaper(epochs, tmin=(t0/Fs), tmax=(t1/Fs), fmin=fMin, fmax=fMax, n_fft=wnd, bandwidth=dpss_bw, adaptive=False, low_bias=True, projs=None, n_jobs=1, verbose=False)\n",
            "/content/GCoh/windowed_gcoh.py:68: RuntimeWarning: Epochs are not baseline corrected or enough highpass filtered. Cross-spectral density may be inaccurate.\n",
            "  csd = mtf.csd_multitaper(epochs, tmin=(t0/Fs), tmax=(t1/Fs), fmin=fMin, fmax=fMax, n_fft=wnd, bandwidth=dpss_bw, adaptive=False, low_bias=True, projs=None, n_jobs=1, verbose=False)\n",
            "/content/GCoh/windowed_gcoh.py:68: RuntimeWarning: Epochs are not baseline corrected or enough highpass filtered. Cross-spectral density may be inaccurate.\n",
            "  csd = mtf.csd_multitaper(epochs, tmin=(t0/Fs), tmax=(t1/Fs), fmin=fMin, fmax=fMax, n_fft=wnd, bandwidth=dpss_bw, adaptive=False, low_bias=True, projs=None, n_jobs=1, verbose=False)\n"
          ]
        },
        {
          "output_type": "stream",
          "name": "stdout",
          "text": [
            "7936  8448\n",
            "8192  8704\n",
            "8448  8960\n"
          ]
        },
        {
          "output_type": "stream",
          "name": "stderr",
          "text": [
            "/content/GCoh/windowed_gcoh.py:68: RuntimeWarning: Epochs are not baseline corrected or enough highpass filtered. Cross-spectral density may be inaccurate.\n",
            "  csd = mtf.csd_multitaper(epochs, tmin=(t0/Fs), tmax=(t1/Fs), fmin=fMin, fmax=fMax, n_fft=wnd, bandwidth=dpss_bw, adaptive=False, low_bias=True, projs=None, n_jobs=1, verbose=False)\n",
            "/content/GCoh/windowed_gcoh.py:68: RuntimeWarning: Epochs are not baseline corrected or enough highpass filtered. Cross-spectral density may be inaccurate.\n",
            "  csd = mtf.csd_multitaper(epochs, tmin=(t0/Fs), tmax=(t1/Fs), fmin=fMin, fmax=fMax, n_fft=wnd, bandwidth=dpss_bw, adaptive=False, low_bias=True, projs=None, n_jobs=1, verbose=False)\n",
            "/content/GCoh/windowed_gcoh.py:68: RuntimeWarning: Epochs are not baseline corrected or enough highpass filtered. Cross-spectral density may be inaccurate.\n",
            "  csd = mtf.csd_multitaper(epochs, tmin=(t0/Fs), tmax=(t1/Fs), fmin=fMin, fmax=fMax, n_fft=wnd, bandwidth=dpss_bw, adaptive=False, low_bias=True, projs=None, n_jobs=1, verbose=False)\n"
          ]
        },
        {
          "output_type": "stream",
          "name": "stdout",
          "text": [
            "8704  9216\n",
            "8960  9472\n",
            "9216  9728\n"
          ]
        },
        {
          "output_type": "stream",
          "name": "stderr",
          "text": [
            "/content/GCoh/windowed_gcoh.py:68: RuntimeWarning: Epochs are not baseline corrected or enough highpass filtered. Cross-spectral density may be inaccurate.\n",
            "  csd = mtf.csd_multitaper(epochs, tmin=(t0/Fs), tmax=(t1/Fs), fmin=fMin, fmax=fMax, n_fft=wnd, bandwidth=dpss_bw, adaptive=False, low_bias=True, projs=None, n_jobs=1, verbose=False)\n",
            "/content/GCoh/windowed_gcoh.py:68: RuntimeWarning: Epochs are not baseline corrected or enough highpass filtered. Cross-spectral density may be inaccurate.\n",
            "  csd = mtf.csd_multitaper(epochs, tmin=(t0/Fs), tmax=(t1/Fs), fmin=fMin, fmax=fMax, n_fft=wnd, bandwidth=dpss_bw, adaptive=False, low_bias=True, projs=None, n_jobs=1, verbose=False)\n",
            "/content/GCoh/windowed_gcoh.py:68: RuntimeWarning: Epochs are not baseline corrected or enough highpass filtered. Cross-spectral density may be inaccurate.\n",
            "  csd = mtf.csd_multitaper(epochs, tmin=(t0/Fs), tmax=(t1/Fs), fmin=fMin, fmax=fMax, n_fft=wnd, bandwidth=dpss_bw, adaptive=False, low_bias=True, projs=None, n_jobs=1, verbose=False)\n"
          ]
        },
        {
          "output_type": "stream",
          "name": "stdout",
          "text": [
            "9472  9984\n",
            "9728  10240\n",
            "9984  10496\n"
          ]
        },
        {
          "output_type": "stream",
          "name": "stderr",
          "text": [
            "/content/GCoh/windowed_gcoh.py:68: RuntimeWarning: Epochs are not baseline corrected or enough highpass filtered. Cross-spectral density may be inaccurate.\n",
            "  csd = mtf.csd_multitaper(epochs, tmin=(t0/Fs), tmax=(t1/Fs), fmin=fMin, fmax=fMax, n_fft=wnd, bandwidth=dpss_bw, adaptive=False, low_bias=True, projs=None, n_jobs=1, verbose=False)\n",
            "/content/GCoh/windowed_gcoh.py:68: RuntimeWarning: Epochs are not baseline corrected or enough highpass filtered. Cross-spectral density may be inaccurate.\n",
            "  csd = mtf.csd_multitaper(epochs, tmin=(t0/Fs), tmax=(t1/Fs), fmin=fMin, fmax=fMax, n_fft=wnd, bandwidth=dpss_bw, adaptive=False, low_bias=True, projs=None, n_jobs=1, verbose=False)\n",
            "/content/GCoh/windowed_gcoh.py:68: RuntimeWarning: Epochs are not baseline corrected or enough highpass filtered. Cross-spectral density may be inaccurate.\n",
            "  csd = mtf.csd_multitaper(epochs, tmin=(t0/Fs), tmax=(t1/Fs), fmin=fMin, fmax=fMax, n_fft=wnd, bandwidth=dpss_bw, adaptive=False, low_bias=True, projs=None, n_jobs=1, verbose=False)\n"
          ]
        },
        {
          "output_type": "stream",
          "name": "stdout",
          "text": [
            "10240  10752\n",
            "10496  11008\n",
            "10752  11264\n"
          ]
        },
        {
          "output_type": "stream",
          "name": "stderr",
          "text": [
            "/content/GCoh/windowed_gcoh.py:68: RuntimeWarning: Epochs are not baseline corrected or enough highpass filtered. Cross-spectral density may be inaccurate.\n",
            "  csd = mtf.csd_multitaper(epochs, tmin=(t0/Fs), tmax=(t1/Fs), fmin=fMin, fmax=fMax, n_fft=wnd, bandwidth=dpss_bw, adaptive=False, low_bias=True, projs=None, n_jobs=1, verbose=False)\n",
            "/content/GCoh/windowed_gcoh.py:68: RuntimeWarning: Epochs are not baseline corrected or enough highpass filtered. Cross-spectral density may be inaccurate.\n",
            "  csd = mtf.csd_multitaper(epochs, tmin=(t0/Fs), tmax=(t1/Fs), fmin=fMin, fmax=fMax, n_fft=wnd, bandwidth=dpss_bw, adaptive=False, low_bias=True, projs=None, n_jobs=1, verbose=False)\n",
            "/content/GCoh/windowed_gcoh.py:68: RuntimeWarning: Epochs are not baseline corrected or enough highpass filtered. Cross-spectral density may be inaccurate.\n",
            "  csd = mtf.csd_multitaper(epochs, tmin=(t0/Fs), tmax=(t1/Fs), fmin=fMin, fmax=fMax, n_fft=wnd, bandwidth=dpss_bw, adaptive=False, low_bias=True, projs=None, n_jobs=1, verbose=False)\n"
          ]
        },
        {
          "output_type": "stream",
          "name": "stdout",
          "text": [
            "11008  11520\n",
            "11264  11776\n",
            "11520  12032\n"
          ]
        },
        {
          "output_type": "stream",
          "name": "stderr",
          "text": [
            "/content/GCoh/windowed_gcoh.py:68: RuntimeWarning: Epochs are not baseline corrected or enough highpass filtered. Cross-spectral density may be inaccurate.\n",
            "  csd = mtf.csd_multitaper(epochs, tmin=(t0/Fs), tmax=(t1/Fs), fmin=fMin, fmax=fMax, n_fft=wnd, bandwidth=dpss_bw, adaptive=False, low_bias=True, projs=None, n_jobs=1, verbose=False)\n",
            "/content/GCoh/windowed_gcoh.py:68: RuntimeWarning: Epochs are not baseline corrected or enough highpass filtered. Cross-spectral density may be inaccurate.\n",
            "  csd = mtf.csd_multitaper(epochs, tmin=(t0/Fs), tmax=(t1/Fs), fmin=fMin, fmax=fMax, n_fft=wnd, bandwidth=dpss_bw, adaptive=False, low_bias=True, projs=None, n_jobs=1, verbose=False)\n",
            "/content/GCoh/windowed_gcoh.py:68: RuntimeWarning: Epochs are not baseline corrected or enough highpass filtered. Cross-spectral density may be inaccurate.\n",
            "  csd = mtf.csd_multitaper(epochs, tmin=(t0/Fs), tmax=(t1/Fs), fmin=fMin, fmax=fMax, n_fft=wnd, bandwidth=dpss_bw, adaptive=False, low_bias=True, projs=None, n_jobs=1, verbose=False)\n"
          ]
        },
        {
          "output_type": "stream",
          "name": "stdout",
          "text": [
            "11776  12288\n",
            "12032  12544\n",
            "12288  12800\n"
          ]
        },
        {
          "output_type": "stream",
          "name": "stderr",
          "text": [
            "/content/GCoh/windowed_gcoh.py:68: RuntimeWarning: Epochs are not baseline corrected or enough highpass filtered. Cross-spectral density may be inaccurate.\n",
            "  csd = mtf.csd_multitaper(epochs, tmin=(t0/Fs), tmax=(t1/Fs), fmin=fMin, fmax=fMax, n_fft=wnd, bandwidth=dpss_bw, adaptive=False, low_bias=True, projs=None, n_jobs=1, verbose=False)\n",
            "/content/GCoh/windowed_gcoh.py:68: RuntimeWarning: Epochs are not baseline corrected or enough highpass filtered. Cross-spectral density may be inaccurate.\n",
            "  csd = mtf.csd_multitaper(epochs, tmin=(t0/Fs), tmax=(t1/Fs), fmin=fMin, fmax=fMax, n_fft=wnd, bandwidth=dpss_bw, adaptive=False, low_bias=True, projs=None, n_jobs=1, verbose=False)\n",
            "/content/GCoh/windowed_gcoh.py:68: RuntimeWarning: Epochs are not baseline corrected or enough highpass filtered. Cross-spectral density may be inaccurate.\n",
            "  csd = mtf.csd_multitaper(epochs, tmin=(t0/Fs), tmax=(t1/Fs), fmin=fMin, fmax=fMax, n_fft=wnd, bandwidth=dpss_bw, adaptive=False, low_bias=True, projs=None, n_jobs=1, verbose=False)\n"
          ]
        },
        {
          "output_type": "stream",
          "name": "stdout",
          "text": [
            "12544  13056\n",
            "12800  13312\n",
            "13056  13568\n"
          ]
        },
        {
          "output_type": "stream",
          "name": "stderr",
          "text": [
            "/content/GCoh/windowed_gcoh.py:68: RuntimeWarning: Epochs are not baseline corrected or enough highpass filtered. Cross-spectral density may be inaccurate.\n",
            "  csd = mtf.csd_multitaper(epochs, tmin=(t0/Fs), tmax=(t1/Fs), fmin=fMin, fmax=fMax, n_fft=wnd, bandwidth=dpss_bw, adaptive=False, low_bias=True, projs=None, n_jobs=1, verbose=False)\n",
            "/content/GCoh/windowed_gcoh.py:68: RuntimeWarning: Epochs are not baseline corrected or enough highpass filtered. Cross-spectral density may be inaccurate.\n",
            "  csd = mtf.csd_multitaper(epochs, tmin=(t0/Fs), tmax=(t1/Fs), fmin=fMin, fmax=fMax, n_fft=wnd, bandwidth=dpss_bw, adaptive=False, low_bias=True, projs=None, n_jobs=1, verbose=False)\n",
            "/content/GCoh/windowed_gcoh.py:68: RuntimeWarning: Epochs are not baseline corrected or enough highpass filtered. Cross-spectral density may be inaccurate.\n",
            "  csd = mtf.csd_multitaper(epochs, tmin=(t0/Fs), tmax=(t1/Fs), fmin=fMin, fmax=fMax, n_fft=wnd, bandwidth=dpss_bw, adaptive=False, low_bias=True, projs=None, n_jobs=1, verbose=False)\n"
          ]
        },
        {
          "output_type": "stream",
          "name": "stdout",
          "text": [
            "13312  13824\n",
            "13568  14080\n",
            "13824  14336\n"
          ]
        },
        {
          "output_type": "stream",
          "name": "stderr",
          "text": [
            "/content/GCoh/windowed_gcoh.py:68: RuntimeWarning: Epochs are not baseline corrected or enough highpass filtered. Cross-spectral density may be inaccurate.\n",
            "  csd = mtf.csd_multitaper(epochs, tmin=(t0/Fs), tmax=(t1/Fs), fmin=fMin, fmax=fMax, n_fft=wnd, bandwidth=dpss_bw, adaptive=False, low_bias=True, projs=None, n_jobs=1, verbose=False)\n",
            "/content/GCoh/windowed_gcoh.py:68: RuntimeWarning: Epochs are not baseline corrected or enough highpass filtered. Cross-spectral density may be inaccurate.\n",
            "  csd = mtf.csd_multitaper(epochs, tmin=(t0/Fs), tmax=(t1/Fs), fmin=fMin, fmax=fMax, n_fft=wnd, bandwidth=dpss_bw, adaptive=False, low_bias=True, projs=None, n_jobs=1, verbose=False)\n",
            "/content/GCoh/windowed_gcoh.py:68: RuntimeWarning: Epochs are not baseline corrected or enough highpass filtered. Cross-spectral density may be inaccurate.\n",
            "  csd = mtf.csd_multitaper(epochs, tmin=(t0/Fs), tmax=(t1/Fs), fmin=fMin, fmax=fMax, n_fft=wnd, bandwidth=dpss_bw, adaptive=False, low_bias=True, projs=None, n_jobs=1, verbose=False)\n"
          ]
        },
        {
          "output_type": "stream",
          "name": "stdout",
          "text": [
            "14080  14592\n",
            "14336  14848\n",
            "14592  15104\n",
            "14848  15360\n",
            "15104  15616\n"
          ]
        },
        {
          "output_type": "stream",
          "name": "stderr",
          "text": [
            "/content/GCoh/windowed_gcoh.py:68: RuntimeWarning: Epochs are not baseline corrected or enough highpass filtered. Cross-spectral density may be inaccurate.\n",
            "  csd = mtf.csd_multitaper(epochs, tmin=(t0/Fs), tmax=(t1/Fs), fmin=fMin, fmax=fMax, n_fft=wnd, bandwidth=dpss_bw, adaptive=False, low_bias=True, projs=None, n_jobs=1, verbose=False)\n",
            "/content/GCoh/windowed_gcoh.py:68: RuntimeWarning: Epochs are not baseline corrected or enough highpass filtered. Cross-spectral density may be inaccurate.\n",
            "  csd = mtf.csd_multitaper(epochs, tmin=(t0/Fs), tmax=(t1/Fs), fmin=fMin, fmax=fMax, n_fft=wnd, bandwidth=dpss_bw, adaptive=False, low_bias=True, projs=None, n_jobs=1, verbose=False)\n",
            "/content/GCoh/windowed_gcoh.py:68: RuntimeWarning: Epochs are not baseline corrected or enough highpass filtered. Cross-spectral density may be inaccurate.\n",
            "  csd = mtf.csd_multitaper(epochs, tmin=(t0/Fs), tmax=(t1/Fs), fmin=fMin, fmax=fMax, n_fft=wnd, bandwidth=dpss_bw, adaptive=False, low_bias=True, projs=None, n_jobs=1, verbose=False)\n",
            "/content/GCoh/windowed_gcoh.py:68: RuntimeWarning: Epochs are not baseline corrected or enough highpass filtered. Cross-spectral density may be inaccurate.\n",
            "  csd = mtf.csd_multitaper(epochs, tmin=(t0/Fs), tmax=(t1/Fs), fmin=fMin, fmax=fMax, n_fft=wnd, bandwidth=dpss_bw, adaptive=False, low_bias=True, projs=None, n_jobs=1, verbose=False)\n",
            "/content/GCoh/windowed_gcoh.py:68: RuntimeWarning: Epochs are not baseline corrected or enough highpass filtered. Cross-spectral density may be inaccurate.\n",
            "  csd = mtf.csd_multitaper(epochs, tmin=(t0/Fs), tmax=(t1/Fs), fmin=fMin, fmax=fMax, n_fft=wnd, bandwidth=dpss_bw, adaptive=False, low_bias=True, projs=None, n_jobs=1, verbose=False)\n"
          ]
        },
        {
          "output_type": "stream",
          "name": "stdout",
          "text": [
            "15360  15872\n",
            "15616  16128\n",
            "15872  16384\n",
            "16128  16640\n",
            "16384  16896\n"
          ]
        },
        {
          "output_type": "stream",
          "name": "stderr",
          "text": [
            "/content/GCoh/windowed_gcoh.py:68: RuntimeWarning: Epochs are not baseline corrected or enough highpass filtered. Cross-spectral density may be inaccurate.\n",
            "  csd = mtf.csd_multitaper(epochs, tmin=(t0/Fs), tmax=(t1/Fs), fmin=fMin, fmax=fMax, n_fft=wnd, bandwidth=dpss_bw, adaptive=False, low_bias=True, projs=None, n_jobs=1, verbose=False)\n",
            "/content/GCoh/windowed_gcoh.py:68: RuntimeWarning: Epochs are not baseline corrected or enough highpass filtered. Cross-spectral density may be inaccurate.\n",
            "  csd = mtf.csd_multitaper(epochs, tmin=(t0/Fs), tmax=(t1/Fs), fmin=fMin, fmax=fMax, n_fft=wnd, bandwidth=dpss_bw, adaptive=False, low_bias=True, projs=None, n_jobs=1, verbose=False)\n",
            "/content/GCoh/windowed_gcoh.py:68: RuntimeWarning: Epochs are not baseline corrected or enough highpass filtered. Cross-spectral density may be inaccurate.\n",
            "  csd = mtf.csd_multitaper(epochs, tmin=(t0/Fs), tmax=(t1/Fs), fmin=fMin, fmax=fMax, n_fft=wnd, bandwidth=dpss_bw, adaptive=False, low_bias=True, projs=None, n_jobs=1, verbose=False)\n",
            "/content/GCoh/windowed_gcoh.py:68: RuntimeWarning: Epochs are not baseline corrected or enough highpass filtered. Cross-spectral density may be inaccurate.\n",
            "  csd = mtf.csd_multitaper(epochs, tmin=(t0/Fs), tmax=(t1/Fs), fmin=fMin, fmax=fMax, n_fft=wnd, bandwidth=dpss_bw, adaptive=False, low_bias=True, projs=None, n_jobs=1, verbose=False)\n",
            "/content/GCoh/windowed_gcoh.py:68: RuntimeWarning: Epochs are not baseline corrected or enough highpass filtered. Cross-spectral density may be inaccurate.\n",
            "  csd = mtf.csd_multitaper(epochs, tmin=(t0/Fs), tmax=(t1/Fs), fmin=fMin, fmax=fMax, n_fft=wnd, bandwidth=dpss_bw, adaptive=False, low_bias=True, projs=None, n_jobs=1, verbose=False)\n"
          ]
        },
        {
          "output_type": "stream",
          "name": "stdout",
          "text": [
            "16640  17152\n",
            "16896  17408\n",
            "17152  17664\n",
            "17408  17920\n",
            "17664  18176\n"
          ]
        },
        {
          "output_type": "stream",
          "name": "stderr",
          "text": [
            "/content/GCoh/windowed_gcoh.py:68: RuntimeWarning: Epochs are not baseline corrected or enough highpass filtered. Cross-spectral density may be inaccurate.\n",
            "  csd = mtf.csd_multitaper(epochs, tmin=(t0/Fs), tmax=(t1/Fs), fmin=fMin, fmax=fMax, n_fft=wnd, bandwidth=dpss_bw, adaptive=False, low_bias=True, projs=None, n_jobs=1, verbose=False)\n",
            "/content/GCoh/windowed_gcoh.py:68: RuntimeWarning: Epochs are not baseline corrected or enough highpass filtered. Cross-spectral density may be inaccurate.\n",
            "  csd = mtf.csd_multitaper(epochs, tmin=(t0/Fs), tmax=(t1/Fs), fmin=fMin, fmax=fMax, n_fft=wnd, bandwidth=dpss_bw, adaptive=False, low_bias=True, projs=None, n_jobs=1, verbose=False)\n",
            "/content/GCoh/windowed_gcoh.py:68: RuntimeWarning: Epochs are not baseline corrected or enough highpass filtered. Cross-spectral density may be inaccurate.\n",
            "  csd = mtf.csd_multitaper(epochs, tmin=(t0/Fs), tmax=(t1/Fs), fmin=fMin, fmax=fMax, n_fft=wnd, bandwidth=dpss_bw, adaptive=False, low_bias=True, projs=None, n_jobs=1, verbose=False)\n",
            "/content/GCoh/windowed_gcoh.py:68: RuntimeWarning: Epochs are not baseline corrected or enough highpass filtered. Cross-spectral density may be inaccurate.\n",
            "  csd = mtf.csd_multitaper(epochs, tmin=(t0/Fs), tmax=(t1/Fs), fmin=fMin, fmax=fMax, n_fft=wnd, bandwidth=dpss_bw, adaptive=False, low_bias=True, projs=None, n_jobs=1, verbose=False)\n",
            "/content/GCoh/windowed_gcoh.py:68: RuntimeWarning: Epochs are not baseline corrected or enough highpass filtered. Cross-spectral density may be inaccurate.\n",
            "  csd = mtf.csd_multitaper(epochs, tmin=(t0/Fs), tmax=(t1/Fs), fmin=fMin, fmax=fMax, n_fft=wnd, bandwidth=dpss_bw, adaptive=False, low_bias=True, projs=None, n_jobs=1, verbose=False)\n"
          ]
        },
        {
          "output_type": "stream",
          "name": "stdout",
          "text": [
            "17920  18432\n",
            "18176  18688\n",
            "18432  18944\n",
            "18688  19200\n",
            "18944  19456\n"
          ]
        },
        {
          "output_type": "stream",
          "name": "stderr",
          "text": [
            "/content/GCoh/windowed_gcoh.py:68: RuntimeWarning: Epochs are not baseline corrected or enough highpass filtered. Cross-spectral density may be inaccurate.\n",
            "  csd = mtf.csd_multitaper(epochs, tmin=(t0/Fs), tmax=(t1/Fs), fmin=fMin, fmax=fMax, n_fft=wnd, bandwidth=dpss_bw, adaptive=False, low_bias=True, projs=None, n_jobs=1, verbose=False)\n",
            "/content/GCoh/windowed_gcoh.py:68: RuntimeWarning: Epochs are not baseline corrected or enough highpass filtered. Cross-spectral density may be inaccurate.\n",
            "  csd = mtf.csd_multitaper(epochs, tmin=(t0/Fs), tmax=(t1/Fs), fmin=fMin, fmax=fMax, n_fft=wnd, bandwidth=dpss_bw, adaptive=False, low_bias=True, projs=None, n_jobs=1, verbose=False)\n",
            "/content/GCoh/windowed_gcoh.py:68: RuntimeWarning: Epochs are not baseline corrected or enough highpass filtered. Cross-spectral density may be inaccurate.\n",
            "  csd = mtf.csd_multitaper(epochs, tmin=(t0/Fs), tmax=(t1/Fs), fmin=fMin, fmax=fMax, n_fft=wnd, bandwidth=dpss_bw, adaptive=False, low_bias=True, projs=None, n_jobs=1, verbose=False)\n",
            "/content/GCoh/windowed_gcoh.py:68: RuntimeWarning: Epochs are not baseline corrected or enough highpass filtered. Cross-spectral density may be inaccurate.\n",
            "  csd = mtf.csd_multitaper(epochs, tmin=(t0/Fs), tmax=(t1/Fs), fmin=fMin, fmax=fMax, n_fft=wnd, bandwidth=dpss_bw, adaptive=False, low_bias=True, projs=None, n_jobs=1, verbose=False)\n",
            "/content/GCoh/windowed_gcoh.py:68: RuntimeWarning: Epochs are not baseline corrected or enough highpass filtered. Cross-spectral density may be inaccurate.\n",
            "  csd = mtf.csd_multitaper(epochs, tmin=(t0/Fs), tmax=(t1/Fs), fmin=fMin, fmax=fMax, n_fft=wnd, bandwidth=dpss_bw, adaptive=False, low_bias=True, projs=None, n_jobs=1, verbose=False)\n"
          ]
        },
        {
          "output_type": "stream",
          "name": "stdout",
          "text": [
            "19200  19712\n"
          ]
        },
        {
          "output_type": "stream",
          "name": "stderr",
          "text": [
            "/content/GCoh/windowed_gcoh.py:68: RuntimeWarning: Epochs are not baseline corrected or enough highpass filtered. Cross-spectral density may be inaccurate.\n",
            "  csd = mtf.csd_multitaper(epochs, tmin=(t0/Fs), tmax=(t1/Fs), fmin=fMin, fmax=fMax, n_fft=wnd, bandwidth=dpss_bw, adaptive=False, low_bias=True, projs=None, n_jobs=1, verbose=False)\n"
          ]
        }
      ]
    },
    {
      "cell_type": "code",
      "source": [
        "gcoh_pkl[\"VEC\"].shape\n"
      ],
      "metadata": {
        "id": "ZJwdoKV_sVRs",
        "outputId": "54a733be-cd51-43dd-ee35-f0c781f60d26",
        "colab": {
          "base_uri": "https://localhost:8080/"
        }
      },
      "execution_count": 27,
      "outputs": [
        {
          "output_type": "execute_result",
          "data": {
            "text/plain": [
              "(76, 77, 2, 20)"
            ]
          },
          "metadata": {},
          "execution_count": 27
        }
      ]
    },
    {
      "cell_type": "code",
      "metadata": {
        "id": "mfQ_SFlHiS4m"
      },
      "source": [
        "\n",
        "\n",
        "outdir1     = datconf.getResultFN(dataset, \"%(dir)s\" % {\"dir\" : dat})\n",
        "if not os.access(outdir1, os.F_OK):\n",
        "     os.mkdir(outdir1)\n",
        "outdir     = datconf.getResultFN(dataset, \"%(dir)s/v%(av)d%(gv)d\" % {\"dir\" : dat, \"av\" : armv_ver, \"gv\" : gcoh_ver})\n",
        "if not os.access(outdir, os.F_OK):\n",
        "     os.mkdir(outdir)\n",
        "#  12.10.2020\n",
        "################  egenvectors\n",
        "#imag_evs  = A_gcoh_mat[\"VEC\"][0]\n",
        "\n",
        "\n",
        "imag_evs  = lm[\"VEC\"][strt:, :, ev_n]\n",
        "\n",
        "L_gcoh  = A_gcoh.shape[0]\n",
        "nChs    = imag_evs.shape[2]\n",
        "real_evs  = _N.empty((L_gcoh, n_fs.shape[0], nChs))\n",
        "\n",
        "chs = lm[\"chs_picks\"]\n",
        "ch_names = arr_ch_names[chs].tolist()\n",
        "\n",
        "for ti in range(L_gcoh):\n",
        "    real_evs[ti] = _N.abs(imag_evs[ti])\n",
        "\n",
        "mn = _N.mean(real_evs, axis=0)\n",
        "sd = _N.std(real_evs, axis=0)\n",
        "\n",
        "fs = lm[\"fs\"]\n",
        "\n",
        "\n",
        "#frngs = [[12, 18], [20, 25], [28, 35], [38, 45]]\n",
        "#frngs = [[12, 18], [20, 25], [28, 35], [35, 42], [38, 45]]\n",
        "#frngs = [[10, 15]]\n",
        "#frngs = [[10, 18]]\n",
        "#frngs = [[12, 18]]\n",
        "#frngs = [[10, 15], [20, 25], [30, 40]]\n",
        "#frngs = [[18, 25]]\n",
        "frngs = [[15, 25]]\n",
        "#frngs = [[35, 42]]\n",
        "\n",
        "#frngs = [[25, 35]]\n",
        "#frngs = [[43, 49]]\n",
        "#frngs = [[40, 50]]\n",
        "#frngs = [[30, 45]]\n",
        "#frngs = [[38, 50]]\n",
        "#frngs = [[32, 48]]\n",
        "#frngs = [[35, 47]]\n",
        "#frngs = [[8, 12], [12, 18]]\n",
        "#frngs = [[33, 40], [34, 41], [35, 42], [36, 43], [37, 44]]\n",
        "#frngs = [[12, 18], [18, 25], [25, 35], [35, 45]]\n",
        "#frngs = [[22, 28], [35, 42]]\n",
        "#frngs = [[28, 35], [38, 45]]\n",
        "\n",
        "ignore_stored = True\n",
        "pcs     = _N.empty(len(frngs))\n",
        "minK    =11\n",
        "maxK    =12\n",
        "#minK = 6\n",
        "#maxK = 7\n",
        "try_Ks  = _N.arange(minK, maxK+1)\n",
        "#TRs      = _N.array([1, 1, 3, 5, 10, 15, 20, 25, 25])  # more tries for higher K\n",
        "TRs      = _N.array([1, 15, 20, 25, 25, 30, 40, 50, 60, 60, 60, 60, 60, 60, 80, 80, 80, 80])  # more tries for higher K\n",
        "#TRs      = _N.array([60])  # more tries for higher K\n",
        "\n",
        "bics = _N.ones(((maxK-minK), _N.max(TRs)))*1000000\n",
        "labs = _N.empty((maxK-minK, _N.max(TRs), real_evs.shape[0]), dtype=_N.int)\n",
        "\n",
        "nState_start = 0\n",
        "\n",
        "for ich in range(len(frngs)):\n",
        "    fL = frngs[ich][0]\n",
        "    fH = frngs[ich][1]\n",
        "\n",
        "    irngs = _N.where((fs > fL) & (fs < fH))[0]\n",
        "    iL    = irngs[0]\n",
        "    iH    = irngs[-1]    \n",
        "\n",
        "    #Apr242020_16_53_03_gcoh_256_64\n",
        "    nStates, rmpd_lab = find_or_retrieve_GMM_labels(dataset, dat, \"%(gf)s_gcoh%(evn)d_%(wn)d_%(sld)d_v%(av)d%(gv)d\" % {\"gf\" : dat, \"av\" : armv_ver, \"gv\" : gcoh_ver, \"wn\" : win, \"sld\" : slideby, \"evn\" : ev_n}, real_evs, iL, iH, fL, fH, armv_ver, gcoh_ver, which=0, try_K=try_Ks, TRs=TRs, ignore_stored=ignore_stored, manual_cluster=manual_cluster, do_pca=True, min_var_expld=0.99)\n",
        "    ps = _N.arange(nStates)\n",
        "    ps += nState_start\n",
        "    nState_start += nStates\n",
        "\n",
        "    #nStates, rmpd_lab = find_or_retrieve_GMM_labels(rpsm[dat], \"%(dat)s_gcoh_%(w)d_%(s)d\" % {\"dat\" : dat, \"w\" : bin, \"s\" : slide}, real_evs, iL, iH, fL, fH, which=0, try_K=try_Ks, TRs=TRs, log_transform=False)\n",
        "    \"\"\"\n",
        "    ###############\n",
        "    for K in range(minK, maxK):\n",
        "        for tr in range(TRs[K]):\n",
        "            gmm = mixture.GaussianMixture(n_components=K, covariance_type=\"full\")\n",
        "\n",
        "            gmm.fit(_N.sum(real_evs[:, iL:iH], axis=1))\n",
        "            bics[K-minK, tr] = gmm.bic(_N.sum(real_evs[:, iL:iH], axis=1))\n",
        "            labs[K-minK, tr] = gmm.predict(_N.sum(real_evs[:, iL:iH], axis=1))\n",
        "\n",
        "    coords = _N.where(bics == _N.min(bics))\n",
        "    print(\"min bic %.4e\" % _N.min(bics))\n",
        "    bestLab = labs[coords[0][0], coords[1][0]]   #  indices in 2-D array\n",
        "    rmpd_lab = increasing_labels_mapping(bestLab)\n",
        "\n",
        "    nStates =  list(range(minK, maxK))[coords[0][0]]\n",
        "    \"\"\"\n",
        "    out_u = _N.mean(real_evs[:, iL:iH], axis=1)\n",
        "    out = _N.empty((L_gcoh, nChs))\n",
        "    iS  = 0\n",
        "    for ns in range(nStates):\n",
        "        ls = _N.where(rmpd_lab == ns)[0]\n",
        "        out[iS:iS+len(ls)] = _N.mean(real_evs[ls, iL:iH], axis=1)\n",
        "        iS += len(ls)\n",
        "\n",
        "    iS = 0\n",
        "    clrs  = [\"black\", \"orange\", \"blue\", \"green\", \"red\", \"lightblue\", \"grey\", \"pink\", \"yellow\", \"brown\", \"cyan\", \"purple\", \"black\", \"orange\", \"blue\", \"green\", \"red\", \"black\", \"orange\", \"blue\", \"green\", \"red\", \"lightblue\", \"grey\", \"pink\", \"yellow\", \"brown\", \"cyan\", \"purple\", \"black\", \"orange\", \"blue\", \"green\", \"red\"]\n",
        "    W   = L_gcoh\n",
        "    H   = nChs\n",
        "    disp_wh_ratio = 3\n",
        "    aspect = (W/H)/disp_wh_ratio\n",
        "    unit = 2.5\n",
        "    fig = _plt.figure(figsize=(disp_wh_ratio*unit + 1, 3*unit+unit/2))\n",
        "    _plt.subplot2grid((2, 1), (0, 0))        \n",
        "    _plt.title(\"1st GCoh eigenvector - temporal order\")\n",
        "    #fig.add_subplot(nStates+2, 1, 1)  \n",
        "    _plt.imshow(out_u.T, aspect=aspect)\n",
        "    _plt.ylim(-(nStates+2), nChs+0.1)\n",
        "    for ns in range(nStates):\n",
        "        nsx = _N.where(rmpd_lab == ns)[0]\n",
        "        _plt.scatter(nsx, _N.ones(len(nsx))*ns - nStates - 1, color=clrs[ns], lw=1.5, s=4)\n",
        "    _plt.xlim(0, L_gcoh)\n",
        "    _plt.xlabel(\"(sample #) - not in experimental temporal order\", fontsize=17)\n",
        "    _plt.ylabel(\"electrode #\", fontsize=16)\n",
        "    _plt.xlabel(\"time bin\", fontsize=16)\n",
        "    _plt.xticks(fontsize=14)\n",
        "    _plt.yticks(fontsize=14)\n",
        "\n",
        "    _plt.subplot2grid((2, 1), (1, 0))        \n",
        "    _plt.title(\"1st GCoh eigenvector - reordered by cluster label\")\n",
        "    #fig.add_subplot(nStates+2, 1, 1)    \n",
        "    _plt.imshow(out.T, aspect=aspect)\n",
        "    _plt.ylim(-(nStates+2), nChs+0.1)\n",
        "    for ns in range(nStates):\n",
        "        ls = _N.where(rmpd_lab == ns)[0]\n",
        "        liS = iS\n",
        "        iS += len(ls)\n",
        "        _plt.plot([liS, iS], [ns-nStates-1, ns-nStates-1], color=clrs[ns], lw=3.5)\n",
        "        if ns < nStates-1:\n",
        "            _plt.axvline(x=iS, color=\"white\", lw=1)\n",
        "    _plt.xlim(0, L_gcoh)\n",
        "    _plt.suptitle(\"%(ky)s   %(1)d-%(2)dHz    GCoh val: %(gcoh).3f   %(sts)s\" % {\"1\" : fL, \"2\" : fH, \"gcoh\" : _N.mean(lm[\"Cs\"][:, irngs]), \"ky\" : dat, \"sts\" : str(ps)})\n",
        "    _plt.xlabel(\"(sample #) - not in experimental temporal order\", fontsize=17)\n",
        "    _plt.ylabel(\"electrode #\", fontsize=16)\n",
        "    _plt.xlabel(\"time bin\", fontsize=16)\n",
        "    _plt.xticks(fontsize=14)\n",
        "    _plt.yticks(fontsize=14)\n",
        "\n",
        "    iS = 0\n",
        "    for ns in range(nStates):\n",
        "        ls = _N.where(rmpd_lab == ns)[0]\n",
        "        iS += len(ls)\n",
        "        if ns < nStates-1:\n",
        "            _plt.axvline(x=iS, color=\"white\", lw=1)\n",
        "    fig.subplots_adjust(left=0.1, bottom=0.1, right=0.9, hspace=0.3)\n",
        "\n",
        "    _plt.savefig(\"%(od)s/%(dat)s_%(w)d_%(sl)d_clusters_coh_pattern_%(evn)d_%(1)d_%(2)d_v%(av)d%(gv)d\" % {\"1\" : fL, \"2\" : fH, \"dat\" : dat, \"w\" : win, \"sl\" : slideby, \"od\" : outdir, \"av\" : armv_ver, \"gv\" : gcoh_ver, \"evn\" : ev_n}, transparent=True)\n",
        "    #_plt.close()\n",
        "\n",
        "    max_over_fs_each_state = _N.empty((nChs, nStates))\n",
        "    for ns in range(nStates):\n",
        "        ls = _N.where(rmpd_lab == ns)[0]\n",
        "        mn_over_fs = _N.mean(real_evs[ls, iL:iH], axis=1)\n",
        "        #min_all    = _N.min(mn_over_fs, axis=0)\n",
        "        max_over_fs_each_state[:, ns]    = _N.max(mn_over_fs, axis=0)\n",
        "    maxComp = _N.max(max_over_fs_each_state)\n",
        "\n",
        "    all_vecs = _N.empty((nChs, nStates))\n",
        "    \n",
        "    for ns in range(nStates):\n",
        "        ls = _N.where(rmpd_lab == ns)[0]\n",
        "        mn_over_fs = _N.mean(real_evs[ls, iL:iH], axis=1)\n",
        "        min_all    = _N.min(mn_over_fs, axis=0)\n",
        "        all_vecs[:, ns] = (min_all / maxComp)*1e-5\n",
        "    _sp.do_skull_plot_all_EVs(all_vecs, ps, ch_names, \"%(od)s/%(dat)s_%(w)d_%(sl)d_skull_coh_pattern_%(evn)d_%(1)d_%(2)d_v%(av)d%(gv)d\" % {\"1\" : fL, \"2\" : fH, \"dat\" : dat, \"w\" : win, \"sl\" : slideby, \"av\" : armv_ver, \"gv\" : gcoh_ver, \"od\" : outdir, \"evn\" : ev_n}, dat, fL, fH)\n",
        "\n",
        "    sts = _N.zeros(real_evs.shape[0])\n",
        "    fig = _plt.figure(figsize=(12, 3))\n",
        "\n",
        "    SHUFFLES = 100\n",
        "    maxlags=150\n",
        "    acfs     = _N.empty((SHUFFLES+1, maxlags*2+1))\n",
        "    shf_rmpd_lab = _N.empty((SHUFFLES+1, rmpd_lab.shape[0]), dtype=_N.int)\n",
        "    shf_rmpd_lab[0] = rmpd_lab\n",
        "    \n",
        "    for shf in range(1, SHUFFLES+1):\n",
        "         rl = shift_correlated_shuffle(rmpd_lab, low=hlfOverlap, high=(hlfOverlap*3), local_shuffle=True, local_shuffle_pcs=6)\n",
        "         #rl = shift_correlated_shuffle(rmpd_lab, low=1, high=2, local_shuffle=True, local_shuffle_pcs=6)\n",
        "         shf_rmpd_lab[shf] = rl\n",
        "\n",
        "    for ns in range(nStates):\n",
        "        _plt.subplot2grid((1, nStates), (0, ns))\n",
        "\n",
        "        for hlvs in range(2):\n",
        "            t0 = hlvs*(L_gcoh//2)\n",
        "            t1 = (hlvs+1)*(L_gcoh//2)\n",
        "            for shf in range(SHUFFLES+1):\n",
        "                sts[:]=0\n",
        "                sts[_N.where(shf_rmpd_lab[shf] == ns)[0]] = 1\n",
        "                #_plt.acorr(sts - _N.mean(sts), maxlags=150, usevlines=False, ms=2, color=clr, lw=lw)\n",
        "                acfs[shf] = autocorrelate(sts[t0:t1] - _N.mean(sts[t0:t1]), maxlags)\n",
        "                acfs[shf, maxlags] = 0\n",
        "            sACFS = _N.sort(acfs[1:], axis=0)\n",
        "            _plt.plot(_N.arange(-maxlags, maxlags+1), acfs[0] + (1-hlvs)*0.7, color=\"black\", lw=2)\n",
        "            _plt.fill_between(_N.arange(-maxlags, maxlags+1), sACFS[int(SHUFFLES*0.025)] + 0.7*(1-hlvs), sACFS[int(SHUFFLES*0.975)] + 0.7*(1-hlvs), alpha=0.3, color=\"blue\")\n",
        "\n",
        "            #_plt.xticks([-(Fs/slideby)*15, -(Fs/slideby)*10, -(Fs/slideby)*5, 0, (Fs/slideby)*5, (Fs/slideby)*10, (Fs/slideby)*15], [-15, -10, -5, 0, 5, 10, 15], fontsize=15)   #stroop\n",
        "            #_plt.xticks([-(Fs/slideby)*45, -(Fs/slideby)*30, -(Fs/slideby)*15, 0, (Fs/slideby)*15, (Fs/slideby)*30, (Fs/slideby)*45], [-45, -30, -15, 0, 15, 30, 45], fontsize=15)   #RPS\n",
        "            _plt.xticks([-(Fs/slideby)*30, -(Fs/slideby)*20, -(Fs/slideby)*10, 0, (Fs/slideby)*10, (Fs/slideby)*20, (Fs/slideby)*30], [-30, -20, -10, 0, 10, 20, 30], fontsize=15)   #RPS\n",
        "            _plt.yticks(fontsize=14)\n",
        "            #_plt.ylim(-0.08, 0.2)\n",
        "            _plt.ylim(-0.08, 1.4)\n",
        "            #_plt.xlim(-(Fs/slideby)*15, (Fs/slideby)*15)    #  Stroop\n",
        "            #_plt.xlim(-(Fs/slideby)*50, (Fs/slideby)*50)    #  RPS\n",
        "        _plt.xlim(-(Fs/slideby)*30, (Fs/slideby)*30)    #  RPS\n",
        "        _plt.grid(ls=\":\")\n",
        "        _plt.xlabel(\"lag (seconds)\", fontsize=16)\n",
        "        _plt.ylabel(\"autocorrelation\", fontsize=16)\n",
        "        _plt.title(\"pattern %d\" % ns)\n",
        "    _plt.suptitle(\"%(1)d-%(2)dHz\" % {\"1\" : fL, \"2\" : fH})\n",
        "    fig.subplots_adjust(left=0.15, bottom=0.2, wspace=0.4, right=0.98, top=0.9)\n",
        "    #_plt.savefig(\"%(od)s/%(dat)s_%(w)d_%(sl)d_acorr_%(evn)d_%(1)d_%(2)d_v%(av)d%(gv)d\" % {\"1\" : fL, \"2\" : fH, \"dat\" : dat, \"w\" : win, \"sl\" : slideby, \"av\" : armv_ver, \"gv\" : gcoh_ver, \"od\" : outdir, \"evn\" : ev_n}, transparent=True)\n",
        "\n"
      ],
      "execution_count": null,
      "outputs": []
    }
  ]
}